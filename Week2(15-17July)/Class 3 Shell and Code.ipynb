{
 "cells": [
  {
   "cell_type": "code",
   "execution_count": null,
   "id": "c4a1e6ba-17b1-48be-b888-139fb75726b7",
   "metadata": {},
   "outputs": [],
   "source": [
    "###Demo Ex4 Class 2\n",
    "gmat = int(input(\"Enter GMAT score: \"))\n",
    "cpa = str(input(\"\"\"Are you a CPA: \"yes\" or \"no\"? \"\"\"))\n",
    "cpa=cpa.lower()\n",
    "\n",
    "if cpa == \"yes\" or gmat > 700:\n",
    "    print(\"\\nAuto Admit\")\n",
    "elif cpa == \"no\" and gmat >= 600:\n",
    "    print(\"\\nConditional Admit\")\n",
    "else:\n",
    "    print(\"\\nReject Admission\")\n",
    "    "
   ]
  },
  {
   "cell_type": "code",
   "execution_count": null,
   "id": "257c0bff-7c0e-42f9-8cd7-13a0804c9d91",
   "metadata": {},
   "outputs": [],
   "source": [
    "###Ex 1 Create User Input to Select mph or ppm\n",
    "###Get User Input(coverting to uppercase)\n",
    "choice = input(\"Do you want to convert MPH or PPM? \").upper()\n",
    "\n",
    "##write if statement for MPH:\n",
    "###mph to pace per mile\n",
    "mph = float(input(\"Enter speed in miles per hour: \"))\n",
    "minpm = 3600/mph//60\n",
    "secpm = 3600/mph%60\n",
    "print(\"\\nYour pace is \",format(minpm,'.0f'),\":\",format(secpm,'02.0f'),\" per mile\",sep=\"\")\n",
    "\n",
    "\n",
    "##elif for PPM:\n",
    "###pace per mile to mph (make sure to indent)\n",
    "minpace = float(input(\"Enter minutes value of pace per mile: \"))\n",
    "secpace = float(input(\"Enter seconds value of pace per mile: \"))\n",
    "mph = 3600/(minpace*60 + secpace)\n",
    "print(\"\\nYour pace is \",format(mph,'.1f'),\" miles per hour\",sep=\"\")\n",
    "\n",
    "###else with message \"I don't understand your input.\":\n"
   ]
  },
  {
   "cell_type": "code",
   "execution_count": null,
   "id": "f347a6fb-74c2-4006-b388-f3c41f96e505",
   "metadata": {},
   "outputs": [],
   "source": [
    "###infitite loop- Hit stop button to end\n",
    "x = 7\n",
    "while x > 4:\n",
    "    print(\"I can buy a cup of coffee\")\n"
   ]
  },
  {
   "cell_type": "code",
   "execution_count": null,
   "id": "1a1df365-760e-4846-acf0-c025fff4705d",
   "metadata": {},
   "outputs": [],
   "source": [
    "###Demo user control while loop\n",
    "cutoff = 90\n",
    "keepGoing = \"y\"\n",
    "while keepGoing == \"y\":\n",
    "    daysDelinquent = int(input(\"Enter days delinquent: \"))\n",
    "    if daysDelinquent >= cutoff:\n",
    "        print(\"The borrower does not qualify.\")\n",
    "    else:\n",
    "        print(\"The borrower can apply for credit.\")\n",
    "    keepGoing = input(\"Do you wish to continue: y or n? \")\n",
    "print(\"Good Day\")\n"
   ]
  },
  {
   "cell_type": "code",
   "execution_count": null,
   "id": "b2d84105-5dc7-4595-915e-0b10b9680484",
   "metadata": {},
   "outputs": [],
   "source": [
    "###Ex 2 Create a user control loop (keep gooing?) for mph pace per mile\n",
    "###mph to pace per mile\n",
    "mph = float(input(\"Enter speed in miles per hour: \"))\n",
    "minpm = 3600/mph//60\n",
    "secpm = 3600/mph%60\n",
    "print(\"\\nYour pace is \",format(minpm,'.0f'),\":\",format(secpm,'02.0f'),\" per mile\",sep=\"\")\n"
   ]
  },
  {
   "cell_type": "code",
   "execution_count": null,
   "id": "7f11515b-36fc-4bb8-8ee4-8053dc2834a0",
   "metadata": {},
   "outputs": [],
   "source": [
    "###range function practice\n",
    "for num in range(1, 5):\n",
    "    print(num)\n"
   ]
  },
  {
   "cell_type": "code",
   "execution_count": null,
   "id": "2256221e-099d-433f-97ac-152e87ecf8b5",
   "metadata": {},
   "outputs": [],
   "source": [
    "for num in range(0,5):\n",
    "    print(num)"
   ]
  },
  {
   "cell_type": "code",
   "execution_count": null,
   "id": "1914d683-06d3-4332-b048-022032e0bf43",
   "metadata": {},
   "outputs": [],
   "source": [
    "for num in range(10):\n",
    "    print(num)"
   ]
  },
  {
   "cell_type": "code",
   "execution_count": null,
   "id": "af06ce1d-6b26-45b2-b702-87215507cd58",
   "metadata": {},
   "outputs": [],
   "source": [
    "for num in range(5, 1,-1):\n",
    "    print(num)"
   ]
  },
  {
   "cell_type": "code",
   "execution_count": null,
   "id": "73798d06-ab69-4cb1-b175-6cba8fd743c6",
   "metadata": {},
   "outputs": [],
   "source": [
    "###Ex 3 Write for loops using range fn\n",
    "###recall how to make get rid of the charectar return in the print fn"
   ]
  },
  {
   "cell_type": "code",
   "execution_count": null,
   "id": "764e0486-457f-4bce-8478-eefd077b4ddc",
   "metadata": {},
   "outputs": [],
   "source": [
    "###Demo User Control in Count loop\n",
    "end=int(input(\"How many applicants do you wish to evaluate?\"))\n",
    "cutoff = 90\n",
    "for num in range(end):\n",
    "    daysDelinquent = int(input(\"Enter the number of days delinquent: \"))\n",
    "    if daysDelinquent >= cutoff:\n",
    "        print(\"The borrower does not quailify for an additional line of credit.\")\n",
    "    else:\n",
    "        print(\"The borrower can apply for credit.\")\n",
    "print(\"Good Day\") \n"
   ]
  },
  {
   "cell_type": "code",
   "execution_count": null,
   "id": "7d67691c-1bb2-4cf8-ac3a-9c30e8e916fa",
   "metadata": {},
   "outputs": [],
   "source": [
    "###Ex 4 Shell Add A user control loop to the following, ask how many sales reps to rank\n",
    "print('Rank\\tCommission')\n",
    "print('--------------')\n",
    " \n",
    "for number in range(10,0,-1):\n",
    "    commission = number/100*2\n",
    "    print(number, '\\t', format(commission,'.0%'))\n"
   ]
  },
  {
   "cell_type": "code",
   "execution_count": null,
   "id": "89ac31b9-b511-4e87-adae-82e5b37187f5",
   "metadata": {},
   "outputs": [],
   "source": [
    "### Running total Demo: this program calculates the sum of a series\n",
    " # of numbers entered by the user.\n",
    " \n",
    "MAX = 5 \n",
    " \n",
    "total = 0.0\n",
    "  \n",
    "print('This program calculates the sum of')\n",
    "print(MAX, 'numbers you will enter.')\n",
    "\n",
    "for counter in range(MAX):\n",
    "         number = int(input('Enter a number: '))\n",
    "         total  +=  number\n",
    "\n",
    "print('The total is', total)\n"
   ]
  },
  {
   "cell_type": "code",
   "execution_count": null,
   "id": "155636a5-f3b7-4e98-8522-d319764dca12",
   "metadata": {},
   "outputs": [],
   "source": [
    "###Ex 5 Shell\n",
    "balance = float(input(\"What is the opening balance? \"))\n",
    "\n",
    "numWD = int(input(\"How many withdrawals do you wish to make? \"))\n",
    "\n",
    "###enter for statement:\n",
    "###indent, get input for withdwraw amount, create running total of withdraws from balance\n",
    "    \n",
    "print(\"\\nThe ending balance is: $\",format(balance,',.2f'),sep='')\n"
   ]
  },
  {
   "cell_type": "code",
   "execution_count": null,
   "id": "b7e9da95-491a-4200-a488-86b48abb0308",
   "metadata": {},
   "outputs": [],
   "source": [
    "###Sentinal Demo with whil loop\n",
    "inf = .0378\n",
    "curVal= float(input(\"Enter current value or enter 0 to end. \"))\n",
    "while curVal != 0:\n",
    "    v1967 = curVal/(1+inf)**58\n",
    "    print(\"\\n$\",format(curVal,',.2f'),\" today was equal to $\", format(v1967,',.2f'),\" in 1967.\",sep=\"\")\n",
    "    curVal=float(input(\"Enter current value or enter 0 to end. \"))\n",
    " "
   ]
  },
  {
   "cell_type": "code",
   "execution_count": null,
   "id": "bc563fb7-6a02-4bef-835a-8276a70507ab",
   "metadata": {},
   "outputs": [],
   "source": [
    "###Demo input validattion While loop\n",
    "balance = float(input(\"What is the opening balance? \"))\n",
    "wd = float(input(\"Enter withdrawal amount or enter O to end. \"))\n",
    "while wd!= 0:  \n",
    "    while wd<0:\n",
    "        print(\"You can't withdraw a negative value!!!\")\n",
    "        wd= float(input(\"Enter another value. \"))\n",
    "    balance -= wd\n",
    "    wd = float(input(\"Enter the next withdrawal amount or enter O to end.\"))\n",
    "\n",
    "print(\"The ending balance is: $\",format(balance,',.2f'),sep='')\n"
   ]
  },
  {
   "cell_type": "code",
   "execution_count": null,
   "id": "754e11c3-708f-4314-ab1f-7ac1b57ad07c",
   "metadata": {},
   "outputs": [],
   "source": [
    "###Demo input Validation IF statement \n",
    "balance = float(input(\"What is the opening balance? \"))\n",
    "wd = float(input(\"Enter withdrawal amount or enter O to end. \"))\n",
    "while wd!= 0:  \n",
    "    if wd<0:\n",
    "        print(\"You can't withdraw a negative value!!!\")\n",
    "        wd= float(input(\"Enter another value. \"))\n",
    "    balance -= wd\n",
    "    wd = float(input(\"Enter the next withdrawal amount or enter O to end.\"))\n",
    "\n",
    "print(\"The ending balance is: $\",format(balance,',.2f'),sep='')\n"
   ]
  },
  {
   "cell_type": "code",
   "execution_count": null,
   "id": "26216b00-fa57-40c6-80dd-eda8b91f5b3e",
   "metadata": {},
   "outputs": [],
   "source": [
    "###Ex 5.2 Challenge: Modify Ex 5 so user cannot withdraw a negative number or withdraw more than the balance"
   ]
  }
 ],
 "metadata": {
  "kernelspec": {
   "display_name": "Python 3 (ipykernel)",
   "language": "python",
   "name": "python3"
  },
  "language_info": {
   "codemirror_mode": {
    "name": "ipython",
    "version": 3
   },
   "file_extension": ".py",
   "mimetype": "text/x-python",
   "name": "python",
   "nbconvert_exporter": "python",
   "pygments_lexer": "ipython3",
   "version": "3.13.5"
  }
 },
 "nbformat": 4,
 "nbformat_minor": 5
}
