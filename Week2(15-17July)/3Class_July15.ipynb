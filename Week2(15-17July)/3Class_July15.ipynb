{
 "cells": [
  {
   "cell_type": "markdown",
   "id": "3752ad66",
   "metadata": {},
   "source": [
    "# Class 3 - July 15th Notes"
   ]
  },
  {
   "cell_type": "markdown",
   "id": "b0cf5012",
   "metadata": {},
   "source": [
    "## Ex 1: User Selection with Conditional Controls\n",
    "### Slide 8"
   ]
  },
  {
   "cell_type": "code",
   "execution_count": null,
   "id": "e17e8121",
   "metadata": {},
   "outputs": [
    {
     "name": "stdout",
     "output_type": "stream",
     "text": [
      "I don't understand your input.\n"
     ]
    }
   ],
   "source": [
    "convert = input(\"Do you want to convert MPH or PPM? \")\n",
    "convert.lower()\n",
    "\n",
    "if(convert=='mph'):\n",
    "    mph = float(input(\"Enter speed in miles per hour: \"))\n",
    "    minpm = 3600/mph//60\n",
    "    secpm = 3600/mph%60\n",
    "    print(\"\\nYour pace is \",format(minpm,'.0f'),\":\",format(secpm,'02.0f'),\" per mile\",sep=\"\")\n",
    "elif(convert=='ppm'):\n",
    "    minpace = float(input(\"Enter minutes value of pace per mile: \"))\n",
    "    secpace = float(input(\"Enter seconds value of pace per mile: \"))\n",
    "    mph = 3600/(minpace*60 + secpace)\n",
    "    print(\"\\nYour pace is \",format(mph,'.1f'),\" miles per hour\",sep=\"\")\n",
    "else:\n",
    "    print(\"I don't understand your input.\")"
   ]
  },
  {
   "cell_type": "markdown",
   "id": "55162af0",
   "metadata": {},
   "source": [
    "## Practise"
   ]
  },
  {
   "cell_type": "code",
   "execution_count": 2,
   "id": "253c0a21",
   "metadata": {},
   "outputs": [
    {
     "name": "stdout",
     "output_type": "stream",
     "text": [
      "The borrower can apply for credit.\n",
      "The borrower does not qualify.\n",
      "Good Day\n"
     ]
    }
   ],
   "source": [
    "###Demo user control while loop\n",
    "cutoff = 90\n",
    "keepGoing = \"y\"\n",
    "while keepGoing == \"y\":\n",
    "    daysDelinquent = int(input(\"Enter days delinquent: \"))\n",
    "    if daysDelinquent >= cutoff:\n",
    "        print(\"The borrower does not qualify.\")\n",
    "    else:\n",
    "        print(\"The borrower can apply for credit.\")\n",
    "    keepGoing = input(\"Do you wish to continue: y or n? \")\n",
    "print(\"Good Day\")\n"
   ]
  },
  {
   "cell_type": "markdown",
   "id": "c6009854",
   "metadata": {},
   "source": [
    "## Ex 2: PPM Example to take multiple times from user with while: loop\n",
    "### Slide 14"
   ]
  },
  {
   "cell_type": "code",
   "execution_count": 10,
   "id": "edc0c260",
   "metadata": {},
   "outputs": [
    {
     "name": "stdout",
     "output_type": "stream",
     "text": [
      "\n",
      "Your pace is 6:00 per mile\n",
      "\n",
      "Your pace is 5:00 per mile\n",
      "Code end.\n"
     ]
    }
   ],
   "source": [
    "condition = 'y'\n",
    "while (condition=='y'):\n",
    "    mph = float(input(\"Enter speed in miles per hour: \"))\n",
    "    minpm = 3600/mph//60\n",
    "    secpm = 3600/mph%60\n",
    "    print(\"\\nYour pace is \",format(minpm,'.0f'),\":\",format(secpm,'02.0f'),\" per mile\",sep=\"\")\n",
    "    condition = input(\"Do you wish to continue: y or n? \")\n",
    "print(\"Code end.\")"
   ]
  },
  {
   "cell_type": "markdown",
   "id": "e3f914ff",
   "metadata": {},
   "source": [
    "## Ex 3: Write for loops using range\n",
    "### Slide 17"
   ]
  },
  {
   "cell_type": "code",
   "execution_count": 32,
   "id": "a7e07e9c",
   "metadata": {},
   "outputs": [
    {
     "name": "stdout",
     "output_type": "stream",
     "text": [
      "3 6 9 12 15 "
     ]
    }
   ],
   "source": [
    "for i in range(3,16,3):\n",
    "    print(i, end=' ')"
   ]
  },
  {
   "cell_type": "code",
   "execution_count": 34,
   "id": "a904cba2",
   "metadata": {},
   "outputs": [
    {
     "name": "stdout",
     "output_type": "stream",
     "text": [
      "20 15 10 5 "
     ]
    }
   ],
   "source": [
    "for i in range(20,4,-5):\n",
    "    print(i, end=' ')"
   ]
  },
  {
   "cell_type": "code",
   "execution_count": 35,
   "id": "bf8a8231",
   "metadata": {},
   "outputs": [
    {
     "name": "stdout",
     "output_type": "stream",
     "text": [
      "0 1 2 "
     ]
    }
   ],
   "source": [
    "for i in range(0,3):\n",
    "    print(i, end=' ')"
   ]
  },
  {
   "cell_type": "markdown",
   "id": "e2d9ebf8",
   "metadata": {},
   "source": [
    "## Practise"
   ]
  },
  {
   "cell_type": "code",
   "execution_count": 36,
   "id": "af308ef6",
   "metadata": {},
   "outputs": [
    {
     "name": "stdout",
     "output_type": "stream",
     "text": [
      "The borrower does not quailify for an additional line of credit.\n",
      "The borrower can apply for credit.\n",
      "The borrower can apply for credit.\n",
      "Good Day\n"
     ]
    }
   ],
   "source": [
    "###Demo User Control in Count loop\n",
    "end=int(input(\"How many applicants do you wish to evaluate?\"))\n",
    "cutoff = 90\n",
    "for num in range(end):\n",
    "    daysDelinquent = int(input(\"Enter the number of days delinquent: \"))\n",
    "    if daysDelinquent >= cutoff:\n",
    "        print(\"The borrower does not quailify for an additional line of credit.\")\n",
    "    else:\n",
    "        print(\"The borrower can apply for credit.\")\n",
    "print(\"Good Day\") "
   ]
  },
  {
   "cell_type": "markdown",
   "id": "a62f830e",
   "metadata": {},
   "source": [
    "## Ex 4 – Make User Control In Target Loop\n",
    "\n",
    "### Slide 19"
   ]
  },
  {
   "cell_type": "code",
   "execution_count": 56,
   "id": "cadb801a",
   "metadata": {},
   "outputs": [
    {
     "name": "stdout",
     "output_type": "stream",
     "text": [
      "Rank\tCommission\n",
      "--------------\n",
      "10 \t 20%\n",
      "9 \t 18%\n",
      "8 \t 16%\n",
      "7 \t 14%\n",
      "6 \t 12%\n",
      "5 \t 10%\n",
      "4 \t 8%\n",
      "3 \t 6%\n",
      "2 \t 4%\n",
      "1 \t 2%\n"
     ]
    }
   ],
   "source": [
    "n = int(input(\"Enter how many sales rep to rank: \"))\n",
    "\n",
    "print('Rank\\tCommission')\n",
    "print('--------------')\n",
    " \n",
    "for number in range(n, 0,-1):\n",
    "    commission = number/100*2\n",
    "    print(number, '\\t', format(commission,'.0%'))"
   ]
  },
  {
   "cell_type": "markdown",
   "id": "da627033",
   "metadata": {},
   "source": [
    "## Practise"
   ]
  },
  {
   "cell_type": "code",
   "execution_count": 60,
   "id": "ee7b1252",
   "metadata": {},
   "outputs": [
    {
     "name": "stdout",
     "output_type": "stream",
     "text": [
      "<class 'int'>\n",
      "This program calculates the sum of\n",
      "2 numbers you will enter.\n",
      "The total is 5.0\n"
     ]
    }
   ],
   "source": [
    "### Running total Demo: this program calculates the sum of a series\n",
    " # of numbers entered by the user.\n",
    " \n",
    "MAX = 2 \n",
    " \n",
    "total = 0\n",
    "print(type(total))\n",
    "print('This program calculates the sum of')\n",
    "print(MAX, 'numbers you will enter.')\n",
    "\n",
    "for counter in range(MAX):\n",
    "         number = float(input('Enter a number: '))\n",
    "         total  +=  number\n",
    "\n",
    "print('The total is', total)\n"
   ]
  },
  {
   "cell_type": "markdown",
   "id": "94354fb3",
   "metadata": {},
   "source": [
    "## Ex5: Running Total of an Account Balance\n",
    "\n",
    "### Slide 23"
   ]
  },
  {
   "cell_type": "code",
   "execution_count": 1,
   "id": "f91310ef",
   "metadata": {},
   "outputs": [
    {
     "name": "stdout",
     "output_type": "stream",
     "text": [
      "The ending balance is: $184.93\n"
     ]
    }
   ],
   "source": [
    "bal = float(input(\"Enter the account balance? \"))\n",
    "n = int(input(\"Enter the number of withdrawls? \"))\n",
    "\n",
    "for i in range(n):\n",
    "    withdrawl = float(input(\"How much would you like to withdrawal? \"))\n",
    "    bal -= withdrawl\n",
    "print(\"The ending balance is: ${}\".format(bal, '.2f'))"
   ]
  },
  {
   "cell_type": "markdown",
   "id": "9688584a",
   "metadata": {},
   "source": [
    "## Ex5.1"
   ]
  },
  {
   "cell_type": "code",
   "execution_count": 11,
   "id": "3bcb781c",
   "metadata": {},
   "outputs": [
    {
     "name": "stdout",
     "output_type": "stream",
     "text": [
      "The ending balance is: $98.0\n"
     ]
    }
   ],
   "source": [
    "bal = float(input(\"Enter the account balance? \"))\n",
    "withdrawl = float(input(\"Enter withdrawal amount or enter O to end. \"))\n",
    "\n",
    "while withdrawl!=0:\n",
    "    bal -= withdrawl\n",
    "    withdrawl = float(input(\"Enter withdrawal amount or enter O to end. \"))\n",
    "\n",
    "print(\"The ending balance is: ${}\".format(bal))"
   ]
  },
  {
   "cell_type": "markdown",
   "id": "25ccf947",
   "metadata": {},
   "source": [
    "## Ex5.2"
   ]
  },
  {
   "cell_type": "code",
   "execution_count": 27,
   "id": "a9694417",
   "metadata": {},
   "outputs": [
    {
     "name": "stdout",
     "output_type": "stream",
     "text": [
      "You can't withdraw a negative value!!!\n",
      "Balance is: $100.00\n",
      "You have insufficient funds!!! Withdrawal cannot exceed $100.00\n",
      "The ending balance is: $98.00\n"
     ]
    }
   ],
   "source": [
    "balance = float(input(\"What is the opening balance? \"))\n",
    "\n",
    "withdrawal = float(input(\"Enter withdrawal amount or enter 0 to end: \"))\n",
    "\n",
    "while withdrawal != 0:\n",
    "    if withdrawal < 0:\n",
    "        print(\"You can't withdraw a negative value!!!\")\n",
    "        print(\"Balance is: ${:.2f}\".format(balance))\n",
    "    elif withdrawal > balance:\n",
    "        print(\"You have insufficient funds!!! Withdrawal cannot exceed ${:.2f}\".format(balance))\n",
    "    else:\n",
    "        balance -= withdrawal\n",
    "        print(\"The ending balance is: ${:.2f}\".format(balance))\n",
    "    withdrawal = float(input(\"Enter another value or 0 to end: \"))"
   ]
  }
 ],
 "metadata": {
  "kernelspec": {
   "display_name": "Python 3",
   "language": "python",
   "name": "python3"
  },
  "language_info": {
   "codemirror_mode": {
    "name": "ipython",
    "version": 3
   },
   "file_extension": ".py",
   "mimetype": "text/x-python",
   "name": "python",
   "nbconvert_exporter": "python",
   "pygments_lexer": "ipython3",
   "version": "3.11.0"
  }
 },
 "nbformat": 4,
 "nbformat_minor": 5
}
