{
 "cells": [
  {
   "cell_type": "code",
   "execution_count": null,
   "id": "ceb6014a-75e0-4bb8-8f65-d41770dd355b",
   "metadata": {},
   "outputs": [],
   "source": [
    "###First Function (user defined)\n",
    "def show_sum(num1, num2):\n",
    "    result = num1 + num2\n",
    "    print(result)\n",
    "\n",
    "show_sum(12,45)\n",
    "###result is local variable - try using it outside the function"
   ]
  },
  {
   "cell_type": "code",
   "execution_count": null,
   "id": "6238d8b7-4a22-43bf-8fcf-d9db439d6a95",
   "metadata": {},
   "outputs": [],
   "source": [
    "# Use mainline logic to order the program\n",
    "#Call the function in the mainline program\n",
    "\n",
    "def main():\n",
    "    print('The sum of 12 and 45 is ', end=\"\")\n",
    "    show_sum(12, 45)\n",
    "\n",
    "# Call the main function.\n",
    "main()\n",
    "#the mainline function calls the show_sum and passes (12,45)\n",
    "def show_sum(num1, num2):\n",
    "    result = num1 + num2\n",
    "    print(result)"
   ]
  },
  {
   "cell_type": "code",
   "execution_count": null,
   "id": "3b5642b6-68ea-4651-9b5a-57c54788977f",
   "metadata": {},
   "outputs": [],
   "source": [
    "#Can call multiple fuctions\n",
    "#functions can be inside or outside the mainline\n",
    "\n",
    "def main():\n",
    "    print('The sum of 12 and 45 is: ', end='')\n",
    "    show_sum(12,45)\n",
    "    print('The difference of 12 and 45 is: ',end='')\n",
    "    show_dif(12,45)\n",
    "\n",
    "\n",
    "def show_sum(num1, num2):\n",
    "    result = num1 + num2\n",
    "    print(result)\n",
    "\n",
    "def show_dif(num1, num2):\n",
    "    result = num1 - num2\n",
    "    print(result)\n",
    "# Call the main function.\n",
    "main()\n"
   ]
  },
  {
   "cell_type": "code",
   "execution_count": null,
   "id": "0a4b4403-aa16-48d9-9c9a-ffd66a4257eb",
   "metadata": {},
   "outputs": [],
   "source": [
    "###Ex 1 Shell\n",
    "###This is the mainline function. add a line to call the finction\n",
    "amount = float(input(\"Enter amount: \"))\n",
    "years = int(input(\"Enter number of years: \"))\n",
    "rate = float(input(\"Enter rate: \"))\n",
    "print(\"In\",years,\"years you will have:\",end=''))\n",
    "\n",
    "### need to define a function here that main will call\n",
    "#### the task of the function will be to calculate and print future value \n",
    "futVal = amount*(1+rate/100)**years\n",
    "print(\"$\",format(futVal,',.2f'),sep='')"
   ]
  },
  {
   "cell_type": "code",
   "execution_count": 1,
   "id": "c3cfc41f-fcdc-400d-bc84-bec19b0873c4",
   "metadata": {},
   "outputs": [
    {
     "name": "stdout",
     "output_type": "stream",
     "text": [
      "The sum of 12 and 45 is 57\n"
     ]
    }
   ],
   "source": [
    "###Keyword arguemnet defines parameter value, order in function is irrelevant\n",
    "def main():\n",
    "    print('The sum of 12 and 45 is ', end=\"\")\n",
    "    show_sum(num2=12, num1=45)\n",
    "def show_sum(num1, num2):\n",
    "    result = num1 + num2\n",
    "    print(result)\n",
    "main()\n"
   ]
  },
  {
   "cell_type": "code",
   "execution_count": null,
   "id": "bbbeae08-6e7f-4a6e-89a9-212ec6ed86fd",
   "metadata": {},
   "outputs": [],
   "source": [
    "###Value returning function\n",
    "###returns value to mainline comand\n",
    "###more efficient than previous examples, keeps input output out of user def function\n",
    "def main():\n",
    "    n1=float(input(\"Enter first number. \"))\n",
    "    n2=float(input(\"Enter first number. \"))\n",
    "    print(\"The quotient is {0:.2f}\".format(div(n1,n2)))    \n",
    " \n",
    "\n",
    "def div(num1, num2):\n",
    "    result = num1 / num2\n",
    "    return(result)\n",
    "\n",
    "main()"
   ]
  },
  {
   "cell_type": "code",
   "execution_count": null,
   "id": "c2f2df23",
   "metadata": {},
   "outputs": [],
   "source": [
    "###note the variables passed in the function can have the same name as used in fn (n1 vs num1 above)\n",
    "###And it is often useful to assign a variable name to the returned value (see format calls variable, not fn)\n",
    "def main():\n",
    "    num1=float(input(\"Enter first number. \"))\n",
    "    num2=float(input(\"Enter first number. \"))\n",
    "    answer=div(num1,num2)\n",
    "    print(\"The quotient is {0:.2f}\".format(answer))    \n",
    " \n",
    "\n",
    "def div(num1, num2):\n",
    "    result = num1 / num2\n",
    "    return(result)\n",
    "\n",
    "main()\n"
   ]
  },
  {
   "cell_type": "code",
   "execution_count": null,
   "id": "3fc9ce4e-847e-435f-ae04-9292cbc573a0",
   "metadata": {},
   "outputs": [],
   "source": [
    "#Ex 2 Rewrite Ex 1 as a value-returning function"
   ]
  },
  {
   "cell_type": "code",
   "execution_count": null,
   "id": "e48664c4-dec3-458c-80d7-6a54cb6b9f49",
   "metadata": {},
   "outputs": [],
   "source": [
    "#Ex 3 In Groups of three \n",
    "#1 person writes mainline logic(input/output function calls\n",
    "#2 person writes FV of annuity function (can search for this)\n",
    "#3 second person writes PMT required to reach FV fn (search for this)\n",
    "#bring all of the output together"
   ]
  }
 ],
 "metadata": {
  "kernelspec": {
   "display_name": "Python 3",
   "language": "python",
   "name": "python3"
  },
  "language_info": {
   "codemirror_mode": {
    "name": "ipython",
    "version": 3
   },
   "file_extension": ".py",
   "mimetype": "text/x-python",
   "name": "python",
   "nbconvert_exporter": "python",
   "pygments_lexer": "ipython3",
   "version": "3.11.0"
  }
 },
 "nbformat": 4,
 "nbformat_minor": 5
}
