{
 "cells": [
  {
   "cell_type": "code",
   "execution_count": null,
   "id": "241dea0f-055e-4cc4-bd0e-6abac32d0fc8",
   "metadata": {},
   "outputs": [],
   "source": [
    "# Demo 1 This program displays a simple line graph.\n",
    "import matplotlib.pyplot as plt\n",
    "   \n",
    "def main():\n",
    "    # Create lists with the X and Y coordinates of each data point.\n",
    "    x_coords = [0, 1, 2, 3, 4]\n",
    "    y_coords = [0, 3, 1, 5, 2]\n",
    "   \n",
    "    # Build the line graph.\n",
    "    plt.plot(x_coords, y_coords)\n",
    " \n",
    "    # Display the line graph.\n",
    "    plt.show()\n",
    " \n",
    "# Call the main function.\n",
    "main()\n"
   ]
  },
  {
   "cell_type": "code",
   "execution_count": null,
   "id": "d28a4c8c-69fa-4a38-be45-62df6afdb024",
   "metadata": {},
   "outputs": [],
   "source": [
    "#Demo2 Stock Price\n",
    "import matplotlib.pyplot as plt\n",
    "y_price = [146.02,192.88,169.10,194.74,186.44,150.44,173.44,188.02,191.22,176.33,188.22,195.33]\n",
    "x_date = [1,2,3,4,5,6,7,8,9,10,11,12]\n",
    "plt.plot(x_date, y_price)\n",
    "plt.show\n"
   ]
  },
  {
   "cell_type": "code",
   "execution_count": null,
   "id": "21a4bd4d-6af3-42c7-9029-58ba4f02dffb",
   "metadata": {},
   "outputs": [],
   "source": [
    "# Demo 1 This program displays a simple line graph.\n",
    "import matplotlib.pyplot as plt\n",
    "   \n",
    "def main():\n",
    "    # Create lists with the X and Y coordinates of each data point.\n",
    "    x_coords = [0, 1, 2, 3, 4]\n",
    "    y_coords = [0, 3, 1, 5, 2]\n",
    "   \n",
    "    # Build the line graph, change color and style of line\n",
    "    y=plt.plot(x_coords, y_coords,color='violet',linewidth=5,linestyle='--')\n",
    "\n",
    "    #Change axis limits\n",
    "    plt.xlim(xmin=1,xmax=4)\n",
    "    plt.ylim(ymin=0,ymax=7)\n",
    "\n",
    "    #Title and axis lables\n",
    "    plt.title('Wierd Line Chart')\n",
    "    plt.xlabel('Numbers')\n",
    "    plt.ylabel('Names')\n",
    "    #Change Name for X axis Tick Marks\n",
    "    plt.xticks([1,2,3,4],['IBM','APPL','MMM','GE'])\n",
    "    \n",
    "\n",
    "    # Display the line graph.\n",
    "    plt.show()\n",
    " \n",
    "# Call the main function.\n",
    "main()\n"
   ]
  },
  {
   "cell_type": "code",
   "execution_count": null,
   "id": "ae808e7f-6e37-4e90-a1cb-a9e9bd6465bb",
   "metadata": {},
   "outputs": [],
   "source": [
    "# Demo 4 This program displays a simple bar graph.\n",
    "import matplotlib.pyplot as plt\n",
    "   \n",
    "def main():\n",
    "    # Create lists with the X and Y coordinates of each data point.\n",
    "    x_coords = [0, 1, 2, 3, 4]\n",
    "    y_coords = [0, 3, 1, 5, 2]\n",
    "   \n",
    "    # Build the bar graph.\n",
    "    plt.bar(x_coords, y_coords)\n",
    " \n",
    "    # Display the bar graph.\n",
    "    plt.show()\n",
    " \n",
    "# Call the main function.\n",
    "main()"
   ]
  },
  {
   "cell_type": "code",
   "execution_count": null,
   "id": "3d5d3812-cb5d-488f-a2c8-3501dc0e36ea",
   "metadata": {},
   "outputs": [],
   "source": [
    "#Demo 5 Panda Line Chart\n",
    "import pandas as pd\n",
    "import matplotlib.pyplot as plt\n",
    "ibm_df = pd.read_csv(\"IBM_23.csv\")\n",
    "ibm_df.plot(x='Date',y= \"Close\")\n",
    "plt.savefig('ibm.jpg')\n"
   ]
  },
  {
   "cell_type": "code",
   "execution_count": null,
   "id": "e1066df6-175b-47c6-a6fd-d4b72d924308",
   "metadata": {},
   "outputs": [],
   "source": [
    "#Demo 6a Panda Bar Chart w/Count\n",
    "import matplotlib.pyplot as plt\n",
    "import pandas as pd\n",
    "loan = pd.read_csv(\"loan default.csv\")\n",
    "x=loan[\"OUTCOME\"].value_counts()\n",
    "x.plot.bar()\n"
   ]
  },
  {
   "cell_type": "code",
   "execution_count": null,
   "id": "953b4947-816c-4bc8-99ae-406667afc4cc",
   "metadata": {},
   "outputs": [],
   "source": [
    "#Demo 6b Groupby for Bar Chart\n",
    "import matplotlib.pyplot as plt\n",
    "import pandas as pd\n",
    "loan = pd.read_csv(\"loan default.csv\")\n",
    "dwloan = loan[(loan['Bo_Age']<35)] \n",
    "x = dwloan.groupby('Status')['Credit_score'].mean()\n",
    "x.plot.bar()\n",
    "plt.title('Credit Score by Loan Status for Young Professionals')\n"
   ]
  },
  {
   "cell_type": "code",
   "execution_count": null,
   "id": "adf4e9c7-69ae-4537-80bb-b5509c3f3f6a",
   "metadata": {},
   "outputs": [],
   "source": [
    "#Demo 7 Histogram\n",
    "import matplotlib.pyplot as plt\n",
    "import pandas as pd\n",
    "loan = pd.read_csv(\"loan default.csv\")\n",
    "\n",
    "dwloan = loan[(loan['Bo_Age']<35)] \n",
    "\n",
    "\n",
    "dwloan.hist(column=\"Credit_score\",bins=15, color = 'red')\n",
    "plt.title('Credit Scores for Young Professionals')\n",
    "plt.xlabel('Number of Occurances')\n",
    "plt.ylabel('Credit Scores')\n"
   ]
  },
  {
   "cell_type": "code",
   "execution_count": null,
   "id": "e7ddc62e-fc02-44a7-9624-dab202366b31",
   "metadata": {},
   "outputs": [],
   "source": [
    "#Demo 8 Scatterplot\n",
    "import pandas as pd\n",
    "import matplotlib.pyplot as plt\n",
    "loan = pd.read_csv(\"loan default.csv\")\n",
    "dwloan = loan[(loan['Bo_Age']<25)] \n",
    "dwloan.plot.scatter(x='Credit_score',y='Tot_mthly_debt_exp')\n"
   ]
  },
  {
   "cell_type": "code",
   "execution_count": null,
   "id": "33fdf32b-183d-4e64-a01d-8fa9f63a1fe3",
   "metadata": {},
   "outputs": [],
   "source": [
    "#Demo 9 Bar Chart\n",
    "import pandas as pd\n",
    "loan = pd.read_csv(\"loan default.csv\")\n",
    "import matplotlib.pyplot as plt\n",
    "\n",
    "x=loan[\"Status\"].value_counts()\n",
    "x.plot.pie(ylabel='',title=\"Loan Status\")\n"
   ]
  },
  {
   "cell_type": "code",
   "execution_count": null,
   "id": "557aa6c2-1671-4f4c-aff4-7d192bcfc56d",
   "metadata": {},
   "outputs": [],
   "source": []
  }
 ],
 "metadata": {
  "kernelspec": {
   "display_name": "Python 3 (ipykernel)",
   "language": "python",
   "name": "python3"
  },
  "language_info": {
   "codemirror_mode": {
    "name": "ipython",
    "version": 3
   },
   "file_extension": ".py",
   "mimetype": "text/x-python",
   "name": "python",
   "nbconvert_exporter": "python",
   "pygments_lexer": "ipython3",
   "version": "3.13.5"
  }
 },
 "nbformat": 4,
 "nbformat_minor": 5
}
