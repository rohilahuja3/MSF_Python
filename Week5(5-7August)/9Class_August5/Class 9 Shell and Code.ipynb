{
 "cells": [
  {
   "cell_type": "code",
   "execution_count": null,
   "id": "698b1d62-ad99-4472-bfb7-2b402aa26ebe",
   "metadata": {},
   "outputs": [],
   "source": [
    "#Three sequence types we have studied\n",
    "#[] makes a list\n",
    "x = ['a',14.55,5,'Great Britain']    \n",
    "\n",
    "#() makes a tuple  \n",
    "y=('p',356,'The New York Times')     \n",
    "\n",
    "#'' makes a string\n",
    "z='Soundgarden'                      \n",
    "\n",
    "##However, index each with []\n",
    "print(x[3],y[1],z[5])\n"
   ]
  },
  {
   "cell_type": "code",
   "execution_count": null,
   "id": "6f9b8257-be51-4faf-882a-56f5b865cb22",
   "metadata": {},
   "outputs": [],
   "source": [
    "#Create a dictionary with {key1:value1,key2:value2...keyn:valuen}\n",
    "MarketCap = {'FB':529.622,'AMZN':881.897,'DIS':242.569}\n",
    "\n",
    "#Key FB calls and displays 529.622. note we don't call with an index value, rather the key.\n",
    "MarketCap['FB'] \n",
    "\n"
   ]
  },
  {
   "cell_type": "code",
   "execution_count": null,
   "id": "460e890f-25e7-41dd-8d38-fcd7524a9179",
   "metadata": {},
   "outputs": [],
   "source": [
    "#Add a new element to dictionary \n",
    "MarketCap['IBM']=122.34\n",
    "print(MarketCap)\n"
   ]
  },
  {
   "cell_type": "code",
   "execution_count": null,
   "id": "721b15ec-2bdf-42d2-b332-d4adaa365d26",
   "metadata": {},
   "outputs": [],
   "source": [
    "#Loop to interate over item\n",
    "MC={'FB':529.622,'AMZN':881.897,'DIS':242.569}\n",
    "\n",
    "for key in MC:\n",
    "    print(key,MC[key])\n"
   ]
  },
  {
   "cell_type": "code",
   "execution_count": null,
   "id": "a4499611-e2cb-4352-b43a-9e3d0e87a052",
   "metadata": {},
   "outputs": [],
   "source": [
    "#can use loop to print key or value\n",
    "for key in MC:\n",
    "    print(key)\n",
    "    print(MC[key])"
   ]
  },
  {
   "cell_type": "code",
   "execution_count": null,
   "id": "63e49823-ee1f-41d1-95ee-ef2a8162dd45",
   "metadata": {},
   "outputs": [],
   "source": [
    "###Can also use loop to populate key/value dictionary elements\n",
    "###Use for Ex 1###\n",
    "DC={}\n",
    "\n",
    "for n in range(3):\n",
    "    name=input('Enter Key ')\n",
    "    val=input('Enter Value ')\n",
    "    DC[name]=val\n",
    "\n",
    "for key in DC:\n",
    "    print(key,DC[key])\n"
   ]
  },
  {
   "cell_type": "code",
   "execution_count": null,
   "id": "324d9c5b-3a82-4fa8-a59a-4de7f52e4205",
   "metadata": {},
   "outputs": [],
   "source": [
    "#Create our own package, a function we can import \n",
    "##Download from Class 9\n",
    "##Can create new notebook save as and add.py or write save in VisualStudio or Anocanda\n",
    "import power\n",
    "def main():\n",
    "    num1= 5\n",
    "    num2= 3\n",
    "    print(power.power(num1,num2))\n",
    "main()\n",
    "\n",
    "\n"
   ]
  },
  {
   "cell_type": "code",
   "execution_count": null,
   "id": "333fb6d5-4388-429d-bf22-cad446d389d1",
   "metadata": {},
   "outputs": [],
   "source": [
    "import Practice\n",
    "def main():\n",
    "    num1= float(input(\"Enter the number of shares: \"))\n",
    "    num2= float(input(\"Enter the price of the stock: \"))\n",
    "    print('\\nThe value of your portfolio is: ',end=\"\") \n",
    "    print('$',format(Practice.pract(num1,num2),',.2f'),sep='')\n",
    "main()\n"
   ]
  },
  {
   "cell_type": "code",
   "execution_count": null,
   "id": "1c4194a1-d445-4b41-9be2-c7807d5d4d0a",
   "metadata": {},
   "outputs": [],
   "source": [
    "###Ex1\n",
    "###Hint: look at the previous loop for guidance\n",
    "import port_fn\n",
    "\n",
    "def main():\n",
    "    num = int(input('Enter number of stocks in portfolio: '))\n",
    "    DP={}\n",
    "    DS={}\n",
    "###set up loop to populate dictionaries DP, DS\n",
    "        print('Enter name of stock ',n+1,': ',sep='',end='')\n",
    "        name=(input())\n",
    "        print('Enter price of stock ',n+1,': ',sep='',end='')\n",
    "        price = float(input())\n",
    "        print('Enter the number of shares of stock ',n+1,': ',sep='',end='')\n",
    "        shares = int(input())\n",
    "\n",
    "    \n",
    "    print('\\nThe expected value of your portfolio is:') \n",
    "    print('$',format(port_fn.value(DP,DS),',.2f'),sep='')\n",
    "    \n",
    "main()\n"
   ]
  },
  {
   "cell_type": "code",
   "execution_count": null,
   "id": "fe78c949-48ee-4a97-ac6a-88152a50d940",
   "metadata": {},
   "outputs": [],
   "source": [
    "a=set([\"IBM\",\"FB\",\"TSLA\",\"AAPL\"])\n",
    "b=set([\"IBM\",\"FB\",\"GOOG\",\"AMZN\"])\n",
    "\n",
    "###| is union all unique elements\n",
    "c=a|b\n",
    "print(c)\n",
    "\n",
    "### or a.union(b) corresponding set methods for all set operations\n",
    "print(a.union(b))"
   ]
  },
  {
   "cell_type": "code",
   "execution_count": null,
   "id": "3f1e15bb-e14d-4852-a9e3-fd6828fee6c6",
   "metadata": {},
   "outputs": [],
   "source": [
    "#& is intersection - only elements contained in both sets\n",
    "d=a&b\n",
    "print(d)\n"
   ]
  },
  {
   "cell_type": "code",
   "execution_count": null,
   "id": "309659ba-e33f-4199-8bf3-6a3c6f037811",
   "metadata": {},
   "outputs": [],
   "source": [
    "#  - is the difference those lements in the first set that do not apear in second\n",
    "e=a-b\n",
    "print(e)"
   ]
  },
  {
   "cell_type": "code",
   "execution_count": null,
   "id": "8bec0319-912a-4a4e-baaa-9672ccb14f32",
   "metadata": {},
   "outputs": [],
   "source": [
    "#Symmetric difference of two sets [^]: a set that contains the elements that are not shared by the two sets\n",
    "#inverse of intersection\n",
    "f=a^b\n",
    "print(f)"
   ]
  },
  {
   "cell_type": "code",
   "execution_count": null,
   "id": "1d864382-f198-4bdc-b3a7-a58359334ab5",
   "metadata": {},
   "outputs": [],
   "source": [
    "#Subset – all elements in B are contained in A (B subset of A)\n",
    "#Superset  - A contains all elements of B\n",
    "\n",
    "#Logical test\n",
    "a= set([\"IBM\",\"FB\",\"TSLA\",\"AAPL\"])\n",
    "b=set([\"IBM\",\"FB\",])\n",
    "if b.issubset(a):\n",
    "    print(\"B is subset A\")\n",
    "if a.issuperset(b):\n",
    "    print(\"A is superset B\")"
   ]
  },
  {
   "cell_type": "code",
   "execution_count": null,
   "id": "fa1c3e53-9b93-4a58-9796-73c1ca6aabd1",
   "metadata": {},
   "outputs": [],
   "source": [
    "###EX2 Shell\n",
    "import random as rd\n",
    "###50 state quarters\n",
    "q=50\n",
    "###how many trials to get all 50 states\n",
    "n=int(input(\"Enter number of trials: \"))\n",
    "coins=[0]*n\n",
    "master=[0]*q\n",
    "\n",
    "#dictionary of order/states\n",
    "\n",
    "states = {1:'DE',2:'PA',3:'NJ',4:'GA',5:'CT',6:'MA',7:'MD',8:'SC',9:'NH',10:'VA',11:'NY',12:'NC',13:'RI',14:'VT',15:'KY',16:'TN',17:'OH',18:'LA',19:'IN',20:'MS',21:'IL',22:'AL',23:'ME',24:'MO',25:'AR',26:'MI',27:'FL',28:'TX',29:'IA',30:'WI',31:'CA',32:'MN',33:'OR',34:'KS',35:'WV',36:'NV',37:'NE',38:'CO',39:'ND',40:'SD',41:'MT',42:'WA',43:'ID',44:'WY',45:'UT',46:'OK',47:'NM',48:'AZ',49:'AK',50:'HI'}\n",
    "\n",
    "\n",
    "\n",
    "###creat a master list of each coin from the dictionary using loop\n",
    "\n",
    "\n",
    "###simulate n trials of coin draws (number 1-50) write to coins list with loop\n",
    "\n",
    "###convert the coins/master lists to sets\n",
    "coins=set(coins)\n",
    "master=set(master)\n",
    "\n",
    "###create a set of the missing coins called \"missing\"\n",
    "\n",
    "print(\"You collected these coins:\")\n",
    "###write a loop to interate set and retrieve key value from list\n",
    " \n",
    "\n",
    "\n",
    "print(\"\\n\\nYou are missing the following coins in your collection: \")\n",
    "###write a loop to interate set and retrieve key value from list\n",
    "\n",
    "\n"
   ]
  },
  {
   "cell_type": "code",
   "execution_count": null,
   "id": "7a173c6f-26bd-4f77-8d7c-ae717c5288bb",
   "metadata": {},
   "outputs": [],
   "source": []
  }
 ],
 "metadata": {
  "kernelspec": {
   "display_name": "Python 3 (ipykernel)",
   "language": "python",
   "name": "python3"
  },
  "language_info": {
   "codemirror_mode": {
    "name": "ipython",
    "version": 3
   },
   "file_extension": ".py",
   "mimetype": "text/x-python",
   "name": "python",
   "nbconvert_exporter": "python",
   "pygments_lexer": "ipython3",
   "version": "3.13.5"
  }
 },
 "nbformat": 4,
 "nbformat_minor": 5
}
