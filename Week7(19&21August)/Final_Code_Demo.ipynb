{
 "cells": [
  {
   "cell_type": "code",
   "execution_count": null,
   "id": "3b244793-478c-4eb4-8b64-9775f93f80fc",
   "metadata": {},
   "outputs": [],
   "source": [
    "## Hint Code Class 8 EX2 - Collecting Lists\n",
    "def main():\n",
    "    num = int(input('Enter number of stocks in portfolio: '))\n",
    "    prices = [0]*num\n",
    "    shares = [0]*num\n",
    "    for index in range(num):\n",
    "        print('Enter the price of stock ',index+1,':',sep='',end='')\n",
    "        prices[index] =  float(input())\n",
    "       \n",
    "    for index in range(num):\n",
    "        print('Enter the # shares of stock ',index+1,':',sep='',end='')\n",
    "        shares[index] =  float(input())\n",
    "\n",
    "    import numpy as np\n",
    "    stvls = np.multiply(prices,shares)\n",
    "    total = np.sum(stvls)\n",
    "    print(\"The total value of your portfolio is: $\",format(total,',.0f'),sep='')\n",
    "    \n",
    "    \n",
    "    print(stvls)\n",
    "    \n",
    "main()"
   ]
  },
  {
   "cell_type": "code",
   "execution_count": null,
   "id": "cb02667e-5c32-4a0d-9581-4db1b753de5b",
   "metadata": {},
   "outputs": [],
   "source": [
    "###Ex 1 Part 1 Get User Input for Number of properties\n",
    "###set up main logic\n",
    "num = int(input('How many properties do you wish to enter?: '))\n",
    "###Set up 3 empty lists\n",
    "###set up 3 loops to populate lists and print\n",
    "###call main()"
   ]
  },
  {
   "cell_type": "code",
   "execution_count": null,
   "id": "1bc5bb0d-9714-45b7-b134-292bf2e5c634",
   "metadata": {},
   "outputs": [],
   "source": [
    "###Hint Code Class 9 Demo 1 \n",
    "import Practice\n",
    "def main():\n",
    "    num1= float(input(\"Enter the number of shares: \"))\n",
    "    num2= float(input(\"Enter the price of the stock: \"))\n",
    "    print('\\nThe value of your portfolio is: ',end=\"\") \n",
    "    print('$',format(Practice.pract(num1,num2),',.2f'),sep='')\n",
    "main()\n"
   ]
  },
  {
   "cell_type": "code",
   "execution_count": null,
   "id": "ebd554f0-41f6-4327-857b-b4530d50bff2",
   "metadata": {},
   "outputs": [],
   "source": [
    "###Ex 1 PartCopy part 1 now simply call function, pass list objects to function\n",
    "###assign an object name and print it, so make sure all is good\n",
    "###part 3 - format the last output statement. "
   ]
  },
  {
   "cell_type": "code",
   "execution_count": null,
   "id": "71dadfb5-2607-4c59-b32e-ac02e066ed9d",
   "metadata": {},
   "outputs": [],
   "source": [
    "###For FInal 2: Hint Class 7 Ex1\n",
    "import pandas as pd\n",
    "loan = pd.read_csv(\"loan default.csv\")\n",
    "\n",
    "dwloan = loan[(loan['Bo_Age']>35)] \n",
    "display(dwloan)\n",
    "dwloan1 = loan[(loan[\"State\"]==\"CA\") |(loan[\"State\"]==\"NY\")] \n",
    "display(dwloan1)\n",
    "\n"
   ]
  },
  {
   "cell_type": "code",
   "execution_count": null,
   "id": "472a434f-88fa-48b0-9f6a-a9eeba83d010",
   "metadata": {},
   "outputs": [],
   "source": [
    "###Ex 2 Part 1\n",
    "###Get user input\n",
    "###Import .csv file to a panda df\n",
    "###Have users enter value for year to gauge inflaction\n",
    "###filter df based on user input (see hint)\n",
    "###View df to make sure you have the input"
   ]
  },
  {
   "cell_type": "code",
   "execution_count": null,
   "id": "e2eb2485-2b77-4c02-90d6-681dea1b3126",
   "metadata": {},
   "outputs": [],
   "source": [
    "###Ex4\n",
    "import yfinance as yf\n",
    "import matplotlib.pyplot as plt\n",
    "\n",
    "\n",
    "#create stock string\n",
    "sl=\"\"\n",
    "n=int(input(\"How many stocks do you want to enter?\"))\n",
    "for i in range(n):\n",
    "    st=input(\"Enter Ticker Symbol\")      \n",
    "    sl+=(st+\" \")\n",
    "\n",
    "stocks = yf.download(sl, period=\"ytd\",multi_level_index=False)\n",
    "avgcl = stocks['Close'].mean()\n",
    "avgcl.plot.bar()\n",
    "plt.title('Averge Closing Price YTD')\n",
    "plt.xlabel('Stock')\n",
    "plt.ylabel('Price')"
   ]
  },
  {
   "cell_type": "code",
   "execution_count": null,
   "id": "ad545e6f-7d1b-473e-a985-4a8a66de0299",
   "metadata": {},
   "outputs": [],
   "source": [
    "##Ex2 Part 2\n",
    "###Now that you have the df, calculate avg inflation rate (see hint), print to make sure it works\n",
    "###Then add the user input\n"
   ]
  },
  {
   "cell_type": "code",
   "execution_count": null,
   "id": "4f6d5991-927d-453c-9369-8b7d35c0f090",
   "metadata": {},
   "outputs": [],
   "source": [
    "###Hint Class 3 - EX5.2 Challenge Input Validation w/ two conditions\n",
    "\n",
    "balance = float(input(\"What is the opening balance? \"))\n",
    "\n",
    "wd = float(input(\"Enter withdrawal amount or enter O to end. \"))\n",
    "while wd!= 0:  \n",
    "    while wd<0:\n",
    "        print(\"You can't withdraw a negative value!!!\")\n",
    "        wd = float(input(\"Enter another value. \"))\n",
    "        while wd > balance:\n",
    "            print(\"You have insufficient funds!!! Withdrawal cannot exceed $\",\n",
    "                      format(balance,',.2f'),sep='')\n",
    "            wd= float(input(\"Enter another value. \"))\n",
    "    while wd > balance:\n",
    "        print(\"You have insufficient funds!!! Withdrawal cannot exceed $\",\n",
    "                      format(balance,',.2f'),sep='')\n",
    "        wd= float(input(\"Enter another value. \"))    \n",
    "        while wd < 0:\n",
    "            print(\"You can't withdraw a negative value!!!\",\n",
    "                  format(balance,',.2f'),sep='')\n",
    "            wd= float(input(\"Enter another value. \")) \n",
    "    balance -= wd\n",
    "    wd = float(input(\"Enter the next withdrawal amount or enter O to end. \"))\n",
    "\n",
    "print(\"\\nThe ending balance is: $\",format(balance,',.2f'),sep='')\n"
   ]
  },
  {
   "cell_type": "code",
   "execution_count": null,
   "id": "3bd68d2a-ad96-490c-a7e8-038346633a56",
   "metadata": {},
   "outputs": [],
   "source": [
    "###Ex 2 Part 3 Then add validation"
   ]
  },
  {
   "cell_type": "code",
   "execution_count": null,
   "id": "d6e6f6e6-72b6-4d83-ba6d-e2428a7c8345",
   "metadata": {},
   "outputs": [],
   "source": []
  }
 ],
 "metadata": {
  "kernelspec": {
   "display_name": "Python 3 (ipykernel)",
   "language": "python",
   "name": "python3"
  },
  "language_info": {
   "codemirror_mode": {
    "name": "ipython",
    "version": 3
   },
   "file_extension": ".py",
   "mimetype": "text/x-python",
   "name": "python",
   "nbconvert_exporter": "python",
   "pygments_lexer": "ipython3",
   "version": "3.13.5"
  }
 },
 "nbformat": 4,
 "nbformat_minor": 5
}
