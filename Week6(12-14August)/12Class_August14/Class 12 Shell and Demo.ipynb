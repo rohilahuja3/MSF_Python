{
 "cells": [
  {
   "cell_type": "code",
   "execution_count": null,
   "id": "a5567445-7d92-4d2a-b24d-361cb595d1cb",
   "metadata": {},
   "outputs": [],
   "source": [
    "import pandas as pd  \n",
    "import option\n",
    "\n",
    "###Ex 1, modified to return list here\n",
    "def returns():\n",
    "\n",
    "\n",
    "\n",
    "\n",
    "def main():\n",
    "    K= float(input(\"Enter the strike price: \"))\n",
    "    S= float(input(\"Enter the current stock price: \"))\n",
    "    T=float(input(\"Enter the number of years to expiration: \"))\n",
    "    r=float(input(\"Enter the annual risk free rate of return: \"))\n",
    "    \n",
    "    ###Call returns, returncassign vol to volatility    \n",
    "    \n",
    "    sigma=((vol*252)**.5)\n",
    "    value=float(option.euro_vanilla_call(S, K, T, r, sigma)) \n",
    "    print(\"The call option value is: $\",format(value,'.2f'),sep='')\n",
    "   \n",
    "main()\n"
   ]
  },
  {
   "cell_type": "code",
   "execution_count": null,
   "id": "cf3b86bf-2c34-41a1-9fe3-188b807ad69f",
   "metadata": {},
   "outputs": [],
   "source": [
    "###Demo1 Yahoo!Finance\n",
    "import yfinance as yf\n",
    "\n",
    "###Ticker is a module that contains all of the data related to MSFT\n",
    "msft = yf.Ticker(\"MSFT\")\n",
    "\n",
    "\n",
    "# get historical market data\n",
    "hist = msft.history(start=\"2022-01-01\", end=\"2022-04-30\")\n",
    "\n",
    "###or\n",
    "hist1 = msft.history(period='1y')\n",
    "\n",
    "hist"
   ]
  },
  {
   "cell_type": "code",
   "execution_count": null,
   "id": "51128584-c0bb-4420-9d96-16df9eb0b160",
   "metadata": {},
   "outputs": [],
   "source": [
    "#Demo 2\n",
    "import yfinance as yf\n",
    "### or can get data using download function, can call multiple ticker symbols\n",
    "data = yf.download(\"IBM TSLA CRM\", period=\"ytd\")\n",
    "###Will want to add arguement multi_level_index=False\n",
    "data"
   ]
  },
  {
   "cell_type": "code",
   "execution_count": null,
   "id": "2e971315-3bae-4c60-95cf-3eb97814784c",
   "metadata": {
    "scrolled": true
   },
   "outputs": [],
   "source": [
    "### Ex 3 Download three separate files, concat\n",
    "import pandas as pd\n",
    "import yfinance as yf\n",
    "import matplotlib.pyplot as plt\n",
    "###create three separate tables\n",
    "name = yf.download(\"TICK\",period='ytd',multi_level_index=False)\n",
    "\n",
    "\n",
    "###create new column with symbol names\n",
    "name['Symbol']=('Ticker Symbol')\n",
    "\n",
    "\n",
    "###merge with concat\n",
    "\n",
    "###Show DF\n",
    "\n",
    "    \n",
    "\n"
   ]
  },
  {
   "cell_type": "code",
   "execution_count": null,
   "id": "0c62804a-aebe-41f3-b3b0-519a10a03931",
   "metadata": {},
   "outputs": [],
   "source": [
    "### Ex 3 Change to Three Different Stocks\n",
    "import pandas as pd\n",
    "import yfinance as yf\n",
    "import matplotlib.pyplot as plt\n",
    "###create three separate tables\n",
    "\n",
    "\n",
    "###create new column with symbol names\n",
    "\n",
    "\n",
    "###merge with concat\n",
    "\n",
    "###now create dataframe for output format\n",
    "pd.options.display.float_format = '{:,.2f}'.format\n",
    "out = pd.DataFrame()\n",
    "\n",
    "###Use Groupby Function to get mean price\n",
    "out['Average']= merge.groupby('Symbol')['Close'].mean()\n",
    "\n",
    "###plot and print\n",
    "out.plot.bar(legend=False)\n",
    "plt.title('Average Stock Price')\n",
    "plt.xlabel('Stock')\n",
    "plt.ylabel('Price')\n",
    "print(out)\n"
   ]
  },
  {
   "cell_type": "code",
   "execution_count": null,
   "id": "e13d3eed-bd58-4e48-bfc8-6feead50e217",
   "metadata": {},
   "outputs": [],
   "source": [
    "import yfinance as yf\n",
    "import matplotlib.pyplot as plt\n",
    "stocks = yf.download(\"IBM TSLA META\", period=\"ytd\",multi_level_index=False)\n",
    "avgcl = stocks['Close'].mean()\n",
    "avgcl.plot.bar()\n",
    "plt.title('Averge Closing Price')\n",
    "plt.xlabel('Stock')\n",
    "plt.ylabel('Price')"
   ]
  },
  {
   "cell_type": "code",
   "execution_count": null,
   "id": "2a7e12fd-47cc-4941-9907-66169b047277",
   "metadata": {},
   "outputs": [],
   "source": [
    "#Ex 4 Create and test stock string"
   ]
  },
  {
   "cell_type": "code",
   "execution_count": null,
   "id": "c168246d-c5a1-4e45-847a-d1f92b3af31a",
   "metadata": {},
   "outputs": [],
   "source": [
    "#Ex4Then input string to yf.download\n",
    "import yfinance as yf\n",
    "import matplotlib.pyplot as plt\n",
    "\n",
    "#Stock String Here\n",
    "\n",
    "\n",
    "stocks = yf.download(\"String\", period=\"ytd\",multi_level_index=False)\n",
    "avgcl = stocks['Close'].mean()\n",
    "avgcl.plot.bar()\n",
    "plt.title('Averge Closing Price')\n",
    "plt.xlabel('Stock')\n",
    "plt.ylabel('Price')\n"
   ]
  },
  {
   "cell_type": "code",
   "execution_count": null,
   "id": "2a5394de-7add-462d-882d-beffa0e2980f",
   "metadata": {},
   "outputs": [],
   "source": []
  }
 ],
 "metadata": {
  "kernelspec": {
   "display_name": "Python 3",
   "language": "python",
   "name": "python3"
  },
  "language_info": {
   "codemirror_mode": {
    "name": "ipython",
    "version": 3
   },
   "file_extension": ".py",
   "mimetype": "text/x-python",
   "name": "python",
   "nbconvert_exporter": "python",
   "pygments_lexer": "ipython3",
   "version": "3.11.0"
  }
 },
 "nbformat": 4,
 "nbformat_minor": 5
}
