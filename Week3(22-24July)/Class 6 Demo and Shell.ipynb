{
 "cells": [
  {
   "cell_type": "code",
   "execution_count": null,
   "id": "0e406c14-1da4-488b-8ec1-44c3b331399e",
   "metadata": {},
   "outputs": [],
   "source": [
    "###Ex1 Simplified Simulation\n",
    "\n",
    "###import module\n",
    "import random as rnd\n",
    "\n",
    "###Initialize Variables\n",
    "\n",
    "cprob=.25\n",
    "tprob=.12\n",
    "nprob=.11\n",
    "wprob=.09\n",
    "\n",
    "\n",
    "x=int(input(\"Enter the number of simulations you wish to run: \"))  \n",
    "\n",
    "###Initialize Variables,\n",
    "\n",
    "##Set loop to evaluate probabilities, set up accumulator. \n",
    "\n",
    "for count in range(x):\n",
    "    rand=rnd.random()\n",
    "    if rand <= (cprob):\n",
    "        c+=1\n",
    "    elif rand <= (cprob+tprob):\n",
    "        t+=1\n",
    "    elif rand <= (cprob+tprob+nprob):\n",
    "        n+=1 \n",
    "    elif rand <=(cprob+tprob+nprob+wprob):\n",
    "        w+=1 \n",
    "\n",
    "\n",
    "###output\n",
    "print(\"\\n\\nIn your simultion:\")\n",
    "print(\"\\nThe Celtics won {0:1,d} times.\".format(c))\n",
    "print(\"The Thunder won {0:1,d} times.\".format(t))\n",
    "print(\"The Nuggets won {0:1,d} times.\".format(n))\n",
    "print(\"The Wolves won {0:1,d} times.\".format(w))\n"
   ]
  },
  {
   "cell_type": "code",
   "execution_count": null,
   "id": "c6bd6ee1-6f32-4e57-8128-5126c8538f59",
   "metadata": {},
   "outputs": [],
   "source": [
    "###Open a new file\n",
    "file_name = open('filename.csv', 'w')\n",
    "\n",
    "###write two or three lines of data \n",
    "file_name.write(\"string\")\n",
    "\n",
    "###Close file\n",
    "file_name.close()\n"
   ]
  },
  {
   "cell_type": "code",
   "execution_count": null,
   "id": "4c5d69a4-7eb5-4324-b455-48146dc22e85",
   "metadata": {},
   "outputs": [],
   "source": [
    "###Open,read,assign to object, close, print\n",
    "file_name = open('filename.ext', 'r')\n",
    "\n",
    "var = file_name.read()\n",
    "\n",
    "file_name.close()\n",
    "\n",
    "print(var)\n"
   ]
  },
  {
   "cell_type": "code",
   "execution_count": null,
   "id": "9412e241-0aa1-4af7-9fd6-719d4445eef6",
   "metadata": {},
   "outputs": [],
   "source": [
    "#Write New File\n",
    "new_file = open('New File.csv', 'w')\n",
    "x=\"Sioux Falls Population\"+'\\n'\n",
    "y=\"176888\\n\"\n",
    "new_file.write(x)\n",
    "new_file.write(y)\n",
    "new_file.write(\"a new line\\n\")\n",
    "new_file.close()\n"
   ]
  },
  {
   "cell_type": "code",
   "execution_count": null,
   "id": "b18ac82f-61c4-45a5-a969-b6d58cee632a",
   "metadata": {},
   "outputs": [],
   "source": [
    "# Open the new file\n",
    "in_file= open('New File.csv','r')\n",
    "contents = in_file.read()\n",
    "in_file.close()\n",
    "print(contents)\n"
   ]
  },
  {
   "cell_type": "code",
   "execution_count": null,
   "id": "ef493179-3313-4343-b553-3da6b3926a6b",
   "metadata": {},
   "outputs": [],
   "source": [
    "#Write, open, and print your own file."
   ]
  },
  {
   "cell_type": "code",
   "execution_count": null,
   "id": "7759722f-ec87-4265-9ac0-d86b4136197d",
   "metadata": {},
   "outputs": [],
   "source": [
    "###Write a file with a for loop\n",
    "def main():\n",
    "    \n",
    "    # Get the number of days.\n",
    "    num_days = int(input('For how many days do you have sales? '))\n",
    "    # Open a new file named sales.txt.\n",
    "    sales_file = open('sales.txt', 'w')\n",
    "\n",
    "    # Get the amount of sales for each day and write\n",
    "    # it to the file.\n",
    "    for count in range(1, num_days + 1):\n",
    "     # Get the sales for a day.\n",
    "        sales = float(input('Enter the sales for day #' + str(count) + ': '))\n",
    "\n",
    "     # Write the sales amount to the file.\n",
    "        sales_file.write(str(sales) + '\\n')\n",
    "\n",
    "     # Close the file.\n",
    "    sales_file.close()\n",
    "    print('Data written to sales.txt.')\n",
    "\n",
    "main()\n"
   ]
  },
  {
   "cell_type": "code",
   "execution_count": null,
   "id": "7a1d84cf-ad67-4be7-8be6-19691fb17e75",
   "metadata": {},
   "outputs": [],
   "source": [
    "def main():\n",
    "    # Open the sales.txt file for reading.\n",
    "    sales_file = open('sales.txt', 'r')\n",
    "    \n",
    "# Read all the lines from the file.\n",
    "    line= sales_file.readline()\n",
    "    while line!= '': \n",
    "    # Convert line to a float.\n",
    "        amount = float(line)\n",
    "        # Format and display the amount.\n",
    "        print(format(amount, '.2f'))\n",
    "        line=sales_file.readline()\n",
    "   # Close the file.\n",
    "    sales_file.close()\n",
    "   \n",
    "# Call the main function.\n",
    "main()\n"
   ]
  },
  {
   "cell_type": "code",
   "execution_count": null,
   "id": "17a2f0e0-1bfe-4b78-9898-28a8de02c4e9",
   "metadata": {},
   "outputs": [],
   "source": [
    "#Ex 2\n",
    "###Get User Input \n",
    "def main():\n",
    "    stock = str(input('Enter stock symbol: '))\n",
    "    h52 = float(input('Enter 52 week high: '))\n",
    "    l52 = float(input('Enter 52 week low: '))\n",
    "    num_asset = int(input('How many prices do you wish to simulate? '))\n",
    "\n",
    "    import random as rnd\n",
    "###open file as write\n",
    "    \n",
    "\n",
    "###Set up loop to assign a random value between high and low...can use rnd.uniform(high,low) \n",
    "###Write to the file in the loop\n",
    " \n",
    "\n",
    "###Close File  \n",
    "   \n",
    "    print(num_asset,'simulated',stock, 'prices written to assetsim.txt.')\n",
    "\n",
    "###print output\n",
    "main()\n"
   ]
  },
  {
   "cell_type": "code",
   "execution_count": null,
   "id": "a2fd2d7e-2695-40b4-ab3d-be2d2b4a3fc9",
   "metadata": {},
   "outputs": [],
   "source": [
    "###Class 6 Ex 3\n",
    "def main():\n",
    "\n",
    "###Open file as read\n",
    "   \n",
    "\n",
    "###Set loop to read each line, assign to obect, print\n",
    "\n",
    "\n",
    "###Close file\n",
    "   \n",
    "\n",
    "main()\n"
   ]
  },
  {
   "cell_type": "code",
   "execution_count": null,
   "id": "43f3cc78-25e8-4c68-b134-fddd87671f38",
   "metadata": {},
   "outputs": [],
   "source": [
    "###Pandas\n",
    "import pandas as pd\n",
    "fivek = pd.read_csv('FiveK.csv')\n",
    "#displays the data frame\n",
    "display(fivek)"
   ]
  },
  {
   "cell_type": "code",
   "execution_count": null,
   "id": "b70e3ebe-2523-4b07-9a62-23a53b603ba8",
   "metadata": {},
   "outputs": [],
   "source": [
    "#Display foirst 5 rows. can specify #rows with argument\n",
    "fivek.head()\n"
   ]
  },
  {
   "cell_type": "code",
   "execution_count": null,
   "id": "568adf47-d959-4ff4-b2f1-6116918a0f73",
   "metadata": {},
   "outputs": [],
   "source": [
    "#numeric descriptive statistics\n",
    "fivek.describe()"
   ]
  },
  {
   "cell_type": "code",
   "execution_count": null,
   "id": "45ccd301-b42f-4740-96d5-3570c30d7c31",
   "metadata": {},
   "outputs": [],
   "source": [
    "fivek.describe(include='all')"
   ]
  },
  {
   "cell_type": "code",
   "execution_count": null,
   "id": "04339d75-2aee-4efe-8bf4-2a1e4a628e07",
   "metadata": {},
   "outputs": [],
   "source": [
    "##filters\n",
    "fivek1= fivek[(fivek['Event Age']>45)]\n",
    "\n",
    "fivek2= fivek[(fivek['Event Age']>45) & (fivek['Zip']==55417)]\n",
    "fivek1.head(10)\n"
   ]
  },
  {
   "cell_type": "code",
   "execution_count": null,
   "id": "f12ece27-40cd-408a-97fc-1c19910385c5",
   "metadata": {},
   "outputs": [],
   "source": [
    "fivek2.head(10)"
   ]
  },
  {
   "cell_type": "code",
   "execution_count": null,
   "id": "925bfd30-97e8-4b94-ad85-2719f23484c0",
   "metadata": {},
   "outputs": [],
   "source": [
    "###Using Groupby for Pandas for all categories\n",
    "fivek_avg_all= fivek.groupby(\"Gender\").mean(numeric_only=True)\n",
    "print(fivek_avg_all)\n",
    "###Only show mean for Event Age\n",
    "fivek_age_gen= fivek.groupby(\"Gender\")['Event Age'].mean()\n",
    "print(fivek_age_gen)\n"
   ]
  }
 ],
 "metadata": {
  "kernelspec": {
   "display_name": "Python 3 (ipykernel)",
   "language": "python",
   "name": "python3"
  },
  "language_info": {
   "codemirror_mode": {
    "name": "ipython",
    "version": 3
   },
   "file_extension": ".py",
   "mimetype": "text/x-python",
   "name": "python",
   "nbconvert_exporter": "python",
   "pygments_lexer": "ipython3",
   "version": "3.13.5"
  }
 },
 "nbformat": 4,
 "nbformat_minor": 5
}
