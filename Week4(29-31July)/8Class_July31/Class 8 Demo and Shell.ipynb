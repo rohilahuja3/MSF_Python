{
 "cells": [
  {
   "cell_type": "code",
   "execution_count": null,
   "id": "2f0070f4-ce2d-4f18-aa03-1d1fe3183657",
   "metadata": {},
   "outputs": [],
   "source": [
    "###concatenation of list + adds lists together\n",
    "list1 = [33,44,66,33,21]\n",
    "\n",
    "list2 = [14,4]+list1\n",
    "\n",
    "print(list1)\n",
    "print(list2)\n"
   ]
  },
  {
   "cell_type": "code",
   "execution_count": null,
   "id": "7be831cf-edab-4ff7-b713-d60cb3c59fa2",
   "metadata": {},
   "outputs": [],
   "source": [
    "list1 = [33,44,66,33,21]\n",
    "list2 = list1\n",
    "###list2 now references list1 in memory\n",
    "###if list1 is changed, the values list2 refers to also change (list 2 is not copied)\n",
    "\n",
    "list1[4] = 101\n",
    "\n",
    "print(list1)\n",
    "print(list2)\n",
    "\n"
   ]
  },
  {
   "cell_type": "code",
   "execution_count": null,
   "id": "662b29af-1a22-414c-a821-ac3a86c828bf",
   "metadata": {},
   "outputs": [],
   "source": [
    "list1 = [33,44,66,33,21]\n",
    "###Here we copy list1 and assign those values to list2\n",
    "list2 = []+list1\n",
    "list1[4] = 101\n",
    "\n",
    "print(list1)\n",
    "print(list2)\n"
   ]
  },
  {
   "cell_type": "code",
   "execution_count": null,
   "id": "1f6660ed-418d-4091-a0f1-88560ede15f2",
   "metadata": {},
   "outputs": [],
   "source": [
    "###List slicing dem0\n",
    "numbers = [3,4,6,7,8,8,11]\n",
    "print(numbers[2:5])\n",
    "print(numbers[:4])\n",
    "print(numbers[1:5:2])\n",
    "print(numbers[-5:-3])\n"
   ]
  },
  {
   "cell_type": "code",
   "execution_count": null,
   "id": "abe190dd-2b1b-4a41-98f4-09a401df02a2",
   "metadata": {},
   "outputs": [],
   "source": [
    "#Ex 1 Create a list out of the string 'ilovefinance'\n",
    "#Slice and print ['l', 'o', 'v', 'e'] using 1) postive and 2) negative index values\n",
    "\n",
    "('ilovefinance')\n",
    "\n",
    "\n"
   ]
  },
  {
   "cell_type": "code",
   "execution_count": null,
   "id": "72771a9e-67dd-42cf-827b-5a3c55625100",
   "metadata": {},
   "outputs": [],
   "source": [
    "#Demo finding item in list\n",
    "dowjones = ['MMM','AXP','AAPL','BA','CAT','CVX','CSCO','KO','DIS',\n",
    "            'DWDP','XOM','GE','GS','HD','IBM']\n",
    "guess = str(input(\"Enter stock symbol in all caps: \"))\n",
    "\n",
    "if guess in dowjones:\n",
    "    print(guess,\"is a Dow Jones stock\")\n",
    "else:\n",
    "    print(guess, \"is not a Dow Jones stock\")"
   ]
  },
  {
   "cell_type": "code",
   "execution_count": null,
   "id": "1474077e-5cf1-4e79-aa7e-3f965f4c385e",
   "metadata": {},
   "outputs": [],
   "source": [
    "###Lst Methods Demo\n",
    "dj=['AXP','AAPL','BA','CAT','CVX','CSCO','KO','DIS’,DWDP','XOM','GE','GS','HD','IBM']\n",
    "dj.append('MMM')\n",
    "print(dj)\n",
    "dj.sort()\n",
    "print(dj)\n",
    "dj.index('BA')\n",
    "print(dj)\n",
    "dj.insert(3,\"MMM\")\n",
    "print(dj)\n",
    "dj.remove('CVX')\n",
    "print(dj)\n",
    "dj.reverse()\n",
    "print(dj)\n"
   ]
  },
  {
   "cell_type": "code",
   "execution_count": null,
   "id": "38b61274-b183-4f2f-8398-8402342066de",
   "metadata": {},
   "outputs": [],
   "source": [
    "#Demo Exception Handling\n",
    "stocks = [\"IBM\",\"GOOG\",\"FB\",\"AAPL\",\"TSLA\"]\n",
    "print(\"The stocks in the portfolio are\",stocks)\n",
    "loser = input('Which stock should I remove? ')\n",
    "stocks.remove(loser)\n",
    "print(\"Now the stocks in the portfolio are\",stocks)    \n",
    "###execute and enter a string that does not match one in list to see value error"
   ]
  },
  {
   "cell_type": "code",
   "execution_count": null,
   "id": "82194dfb-44af-4de0-a858-edcd8e3f52f5",
   "metadata": {},
   "outputs": [],
   "source": [
    "#Demo Exception Handling\n",
    "stocks = [\"IBM\",\"GOOG\",\"FB\",\"AAPL\",\"TSLA\"]\n",
    "print(\"The stocks in the portfolio are\",stocks)\n",
    "loser = input('Which stock should I remove? ')\n",
    "try:\n",
    "    stocks.remove(loser)\n",
    "    print(\"Now the stocks in the portfolio are\",stocks)\n",
    "    \n",
    "except ValueError:\n",
    "    print('That stock is not in the portfolio!')"
   ]
  },
  {
   "cell_type": "code",
   "execution_count": null,
   "id": "af0712c6-ee41-4a5a-870e-2ea2bfbad190",
   "metadata": {},
   "outputs": [],
   "source": [
    "def main():\n",
    "    NUM_EMPLOYEES = int(input(\"Enter number of employees: \"))\n",
    "    hours = [0] * NUM_EMPLOYEES\n",
    "\n",
    "###in the loop notice we print the input statement separate from input function\n",
    "###inout function doesn't allow formatting\n",
    "    for index in range(NUM_EMPLOYEES):\n",
    "        print('Enter the hours worked by employee ', \n",
    "              index + 1, ': ', sep='', end='')\n",
    "        hours[index] = float(input())\n",
    "\n",
    "    pay_rate = float(input('Enter the hourly pay rate: '))\n",
    "    for index in range(NUM_EMPLOYEES):\n",
    "        gross_pay = hours[index] * pay_rate\n",
    "        print('Gross pay for employee ', index + 1, ': $', \n",
    "              format(gross_pay, ',.2f'), sep='')\n",
    "\n",
    "main()"
   ]
  },
  {
   "cell_type": "code",
   "execution_count": null,
   "id": "1880686b-a6e9-4b04-b6a5-1fa93fc45dfe",
   "metadata": {},
   "outputs": [],
   "source": [
    "#Ex 2 Calculate portfolio value\n",
    "def main():\n",
    "    num = int(input('Enter number of stocks in portfolio: '))\n",
    "    prices = \n",
    "    shares = "
   ]
  },
  {
   "cell_type": "code",
   "execution_count": null,
   "id": "26ca6c8a-294e-42c4-8e07-5ebfe5584986",
   "metadata": {},
   "outputs": [],
   "source": [
    "#Ex 3 print holdings of each stock as well as portfolio value"
   ]
  },
  {
   "cell_type": "code",
   "execution_count": null,
   "id": "10153710-a83f-4efd-b6ec-7eaed7f9bbc0",
   "metadata": {},
   "outputs": [],
   "source": [
    "#Ex 4 Ask for and print the name of each stock"
   ]
  },
  {
   "cell_type": "code",
   "execution_count": null,
   "id": "524b7648-f3e3-44c5-9163-184417b60bfb",
   "metadata": {},
   "outputs": [],
   "source": [
    "###String Method Demos\n",
    "s1=\"John Randle jrandle@yahoo.com\"\n",
    "s2=\"12/26/1902\"\n",
    "\n",
    "print(s1.rstrip(\"m\"))\n",
    "print(s2.lstrip(\"12\"))\n",
    "\n",
    "x='hello'\n",
    "y=x[0].upper()+x[1:]\n",
    "print(y)"
   ]
  },
  {
   "cell_type": "code",
   "execution_count": null,
   "id": "0aac12a2-a697-4996-8a7a-e582babd65a3",
   "metadata": {},
   "outputs": [],
   "source": [
    "#Ex 5 Star Wars Name Generator - see class 8, last slide"
   ]
  }
 ],
 "metadata": {
  "kernelspec": {
   "display_name": "Python 3 (ipykernel)",
   "language": "python",
   "name": "python3"
  },
  "language_info": {
   "codemirror_mode": {
    "name": "ipython",
    "version": 3
   },
   "file_extension": ".py",
   "mimetype": "text/x-python",
   "name": "python",
   "nbconvert_exporter": "python",
   "pygments_lexer": "ipython3",
   "version": "3.13.5"
  }
 },
 "nbformat": 4,
 "nbformat_minor": 5
}
