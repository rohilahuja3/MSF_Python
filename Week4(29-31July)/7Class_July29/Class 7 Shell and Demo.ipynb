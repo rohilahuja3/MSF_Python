{
 "cells": [
  {
   "cell_type": "code",
   "execution_count": null,
   "id": "6b709ef9-95c9-4a0e-bc0c-842353038749",
   "metadata": {},
   "outputs": [],
   "source": [
    "###Panda Demos\n",
    "import pandas as pd\n",
    "fivek = pd.read_csv('FiveK.csv')\n",
    "\n",
    "###is there a null?\n",
    "print(pd.isnull(fivek).any())\n",
    "display(fivek)"
   ]
  },
  {
   "cell_type": "code",
   "execution_count": null,
   "id": "d2bf4cc6-a588-42f3-a126-5933b31fca44",
   "metadata": {},
   "outputs": [],
   "source": [
    "##drop null\n",
    "dropnull = fivek.dropna(subset=['Interested in Volunteering'])\n",
    "print(pd.isnull(dropnull).any())\n",
    "display(dropnull)\n",
    "###notice the rows are dropped that are null.\n"
   ]
  },
  {
   "cell_type": "code",
   "execution_count": null,
   "id": "8c4a5c44-b14e-4c2c-a7eb-0a3da2552682",
   "metadata": {},
   "outputs": [],
   "source": [
    "###replace null\n",
    "fillOcc=fivek\n",
    "fillOcc.fillna({'Highest Level of Education': 'Prefer not to answer'}, inplace=True)\n",
    "display(fillOcc)"
   ]
  },
  {
   "cell_type": "code",
   "execution_count": null,
   "id": "a4478445-9c69-405d-9294-96285b230c8e",
   "metadata": {},
   "outputs": [],
   "source": [
    "###Filtering and Saving\n",
    "fivek1= fivek[(fivek['Event Age']>45)]\n",
    "fivek2= fivek[(fivek['Event Age']>45) & (fivek['Zip']==55417)]\n",
    "\n",
    "fivek1.to_csv(\"fivek1.csv\")\n",
    "fivek2.to_excel(\"fivek1.xlsx\") \n"
   ]
  },
  {
   "cell_type": "code",
   "execution_count": null,
   "id": "6edb3088-7bb7-4315-a3ad-6187ef5165ae",
   "metadata": {},
   "outputs": [],
   "source": [
    "#Groupby Function\n",
    "###Mean for all categories\n",
    "fivek_avg_all= fivek.groupby(\"Gender\").mean(numeric_only=True)\n",
    "display(fivek_avg_all)"
   ]
  },
  {
   "cell_type": "code",
   "execution_count": null,
   "id": "39b18c75-2fb5-4f96-8820-52af2cc2810d",
   "metadata": {},
   "outputs": [],
   "source": [
    "###Only show mean for Event Age\n",
    "fivek_age_gen= fivek.groupby(\"Gender\")['Event Age'].mean()\n",
    "display(fivek_age_gen)"
   ]
  },
  {
   "cell_type": "code",
   "execution_count": null,
   "id": "ea6d8b03-944b-43dc-bf06-7cfabdd6fbba",
   "metadata": {},
   "outputs": [],
   "source": [
    "#Ex 1 Create and display two data frames \n",
    "import pandas as pd\n",
    "loan = pd.read_csv(\"loan default.csv\")\n",
    "## borrowers over 35 years of age:\n",
    "\n",
    "##borrowers only from CA and NY:"
   ]
  },
  {
   "cell_type": "code",
   "execution_count": null,
   "id": "627e925b-de03-4825-98e7-76980fa28b1f",
   "metadata": {},
   "outputs": [],
   "source": [
    "#Ex 2 Create and display two tables:\n",
    "\n",
    "#1 Summarize mean outcome for every numeric variable\n",
    "\n",
    "#2 Summarize the count of defaulter/non-defaulters (outcome variable)"
   ]
  },
  {
   "cell_type": "code",
   "execution_count": null,
   "id": "76de43c4-87f8-4b74-accc-2b954b160a99",
   "metadata": {},
   "outputs": [],
   "source": [
    "##List demos\n",
    "numbers = list(range(1, 10, 2))\n",
    "print(numbers)\n",
    "\n",
    "list2 = list('ryansougstad')\n",
    "print(list2)\n",
    "\n",
    "list3 = list((1,2,3))\n",
    "print(list3)\n"
   ]
  },
  {
   "cell_type": "code",
   "execution_count": null,
   "id": "e2da0e1d-fc22-48f7-a1df-a8553af9964c",
   "metadata": {},
   "outputs": [],
   "source": [
    "##Repetition operators for lists\n",
    "list4= list2*3\n",
    "print(list4)\n",
    "\n",
    "numbers2 = numbers *2\n",
    "print(numbers2)\n"
   ]
  },
  {
   "cell_type": "code",
   "execution_count": null,
   "id": "a12048f8-9b81-4f37-8e0e-5c3a1fad7688",
   "metadata": {},
   "outputs": [],
   "source": [
    "#Loops with lists\n",
    "numbers = [99, 100, 101, 102]\n",
    "for n in numbers:\n",
    "    x = n*3\n",
    "    print(x)\n",
    "\n",
    "###index practice\n",
    "print (numbers[0], numbers[-4],numbers[3])\n",
    "\n",
    "###mutability\n",
    "numbers [3] = 1.2\n",
    "print(numbers)\n"
   ]
  },
  {
   "cell_type": "code",
   "execution_count": null,
   "id": "3c663524-71eb-4716-b1eb-a3ac407b9453",
   "metadata": {},
   "outputs": [],
   "source": [
    "###List slicing\n",
    "numbers = [3,4,6,7,8,8,11]\n",
    "print(numbers[2:5])\n",
    "print(numbers[:4])\n",
    "print(numbers[1:5:2])\n",
    "print(numbers[-5:-3])\n"
   ]
  },
  {
   "cell_type": "code",
   "execution_count": null,
   "id": "8d9a1e3d-1fe8-46c4-80eb-f4dfe90af788",
   "metadata": {},
   "outputs": [],
   "source": [
    "##Demo 1 Validate whether item is in list\n",
    "\n",
    "import pandas as pd\n",
    "fivek = pd.read_csv(\"fiveK.csv\")\n",
    "\n",
    "#Return one column\n",
    "zip= fivek['Zip']\n",
    "#Convert to list\n",
    "ziplist = list(zip)\n",
    "x=int(input('Enter the Zip Code: '))\n",
    "\n",
    "if x in ziplist:\n",
    "    print('There are registrants from Zip Code:',x)\n",
    "else:\n",
    "    print('There are no registrants from Zip Code:',x)\n",
    "  "
   ]
  },
  {
   "cell_type": "code",
   "execution_count": null,
   "id": "64e1f1ac-7ec1-4ce3-8260-093108b338b1",
   "metadata": {},
   "outputs": [],
   "source": [
    "###Ex 3 shell\n",
    "dowjones = ['MMM','AXP','AAPL','BA','CAT','CVX','CSCO','KO','DIS',\n",
    "            'DWDP','XOM','GE','GS','HD','IBM']\n",
    "\n",
    "guess = str(input(\"Enter stock symbol in all caps: \"))"
   ]
  },
  {
   "cell_type": "code",
   "execution_count": null,
   "id": "f8822d51-8c7d-4de1-a090-0bb5a547d240",
   "metadata": {},
   "outputs": [],
   "source": [
    "###Demo 2 Exception Handling\n",
    "\n",
    "stocks = [\"IBM\",\"GOOG\",\"FB\",\"AAPL\",\"TSLA\"]\n",
    "print(\"The stocks in the portfolio are\",stocks)\n",
    "loser = input('Which stock should I remove? ')\n",
    "try:\n",
    "    stocks.remove(loser)\n",
    "    print(\"Now the stocks in the portfolio are\",stocks)\n",
    "    \n",
    "except ValueError:\n",
    "    print('That stock is not in the portfolio!')\n",
    "\n",
    "\n",
    "\n",
    "\n"
   ]
  },
  {
   "cell_type": "code",
   "execution_count": null,
   "id": "7134255d-0341-4856-aa82-d16c1444fd1e",
   "metadata": {},
   "outputs": [],
   "source": [
    "def main():\n",
    "    NUM_EMPLOYEES = int(input(\"Enter number of employees: \"))\n",
    "    hours = [0] * NUM_EMPLOYEES\n",
    "\n",
    "###in the loop notice we print the input statement separate from input function\n",
    "###inout function doesn't allow formatting\n",
    "    for index in range(NUM_EMPLOYEES):\n",
    "        print('Enter the hours worked by employee ', \n",
    "              index + 1, ': ', sep='', end='')\n",
    "        hours[index] = float(input())\n",
    "\n",
    "    pay_rate = float(input('Enter the hourly pay rate: '))\n",
    "    for index in range(NUM_EMPLOYEES):\n",
    "        gross_pay = hours[index] * pay_rate\n",
    "        print('Gross pay for employee ', index + 1, ': $', \n",
    "              format(gross_pay, ',.2f'), sep='')\n",
    "\n",
    "main()"
   ]
  },
  {
   "cell_type": "code",
   "execution_count": null,
   "id": "ce4ec4db-4610-4726-a0f5-5aed5b3996d5",
   "metadata": {},
   "outputs": [],
   "source": [
    "#Ex 4a Calculate portfolio value\n",
    "def main():\n",
    "    num = int(input('Enter number of stocks in portfolio: '))\n",
    "    prices = \n",
    "    shares = \n"
   ]
  },
  {
   "cell_type": "code",
   "execution_count": null,
   "id": "44a18ea2-a3a3-433d-80bd-03514cfc8533",
   "metadata": {},
   "outputs": [],
   "source": [
    "#Ex 4b print holdings of each stock as well as portfolio value"
   ]
  },
  {
   "cell_type": "code",
   "execution_count": null,
   "id": "d44dabba-3b4e-4c18-aad5-c129054c71ec",
   "metadata": {},
   "outputs": [],
   "source": [
    "#Ex 4c Ask for and print the name of each stock"
   ]
  }
 ],
 "metadata": {
  "kernelspec": {
   "display_name": "Python 3 (ipykernel)",
   "language": "python",
   "name": "python3"
  },
  "language_info": {
   "codemirror_mode": {
    "name": "ipython",
    "version": 3
   },
   "file_extension": ".py",
   "mimetype": "text/x-python",
   "name": "python",
   "nbconvert_exporter": "python",
   "pygments_lexer": "ipython3",
   "version": "3.13.5"
  }
 },
 "nbformat": 4,
 "nbformat_minor": 5
}
