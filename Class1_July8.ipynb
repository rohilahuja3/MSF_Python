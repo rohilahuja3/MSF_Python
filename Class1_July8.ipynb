{
 "cells": [
  {
   "cell_type": "markdown",
   "id": "c8347994",
   "metadata": {},
   "source": [
    "# Class 1 - July 8th Notes\n",
    "\n"
   ]
  },
  {
   "cell_type": "markdown",
   "id": "2a0d6b1f",
   "metadata": {},
   "source": [
    "## Slide 16\n",
    "\n",
    "Steps needed to develop...\n",
    "\n",
    "1) Enter the n no. of stocks and names of the stocks\n",
    "2) Get historical data from API\n",
    "3) Do the calulcation for variance and cov.\n",
    "4) Display in a pie chart and text"
   ]
  },
  {
   "cell_type": "code",
   "execution_count": 4,
   "id": "5bae20b6",
   "metadata": {},
   "outputs": [
    {
     "name": "stdout",
     "output_type": "stream",
     "text": [
      "My name is Rohil\n",
      "I am in MSF Python\n"
     ]
    }
   ],
   "source": [
    "# Excercise 1 - Slide\n",
    "\n",
    "print(\"My name is Rohil\")\n",
    "print(\"I am in MSF Python\")"
   ]
  },
  {
   "cell_type": "code",
   "execution_count": null,
   "id": "8e15dd4d",
   "metadata": {},
   "outputs": [
    {
     "name": "stdout",
     "output_type": "stream",
     "text": [
      "The Investment one year from today 106.0\n"
     ]
    }
   ],
   "source": [
    "# Exercise 2 - Slide 31\n",
    "\n",
    "sum = float(input(\"Enter the sum of money\"))\n",
    "r = float(input(\"Enter the interest rate(in %)\"))\n",
    "\n",
    "r = r/100\n",
    "FV = 0\n",
    "FV = sum*(1+r)\n",
    "\n",
    "print(\"The Investment one year from today {}\".format(FV))"
   ]
  },
  {
   "cell_type": "code",
   "execution_count": 27,
   "id": "b1d589c5",
   "metadata": {},
   "outputs": [
    {
     "name": "stdout",
     "output_type": "stream",
     "text": [
      "\n",
      "\n",
      "\n",
      "The Investment after four year from today $1,884.46\n"
     ]
    }
   ],
   "source": [
    "# Exercise 3 - Slide 36\n",
    "\n",
    "sum = float(input(\"Enter the sum of money: \"))\n",
    "r = float(input(\"Enter the interest rate(in %): \"))\n",
    "n = float(input(\"Enter the number of year: \"))\n",
    "# sum = 1335\n",
    "# r = 9\n",
    "# n = 4\n",
    "\n",
    "r = r/100\n",
    "FV = sum*((1+r)**n)\n",
    "\n",
    "# print(\"\\n\\n\\nThe Investment after four year from today ${}\".format(round(FV, 2)))\n",
    "print(\"\\n\\n\\nThe Investment after four year from today $\", format(FV, ',.2f'), sep='')"
   ]
  },
  {
   "cell_type": "code",
   "execution_count": 28,
   "id": "c37d4dee",
   "metadata": {},
   "outputs": [
    {
     "name": "stdout",
     "output_type": "stream",
     "text": [
      "\n",
      "\n",
      "\n",
      "The Investment after four year from today $104.04\n"
     ]
    }
   ],
   "source": [
    "# Exercise 4 - Slide 37\n",
    "\n",
    "sum = float(input(\"Enter the sum of money: \"))\n",
    "r = float(input(\"Enter the interest rate(in %): \"))\n",
    "n = float(input(\"Enter the number of year: \"))\n",
    "# sum = 100\n",
    "# r = 2\n",
    "# n = 2\n",
    "\n",
    "r = r/100\n",
    "FV = sum*((1+r)**n)\n",
    "\n",
    "# print(\"\\n\\n\\nThe Investment after four year from today ${}\".format(round(FV, 2)))\n",
    "print(\"\\n\\n\\nThe Investment after four year from today $\", format(FV, ',.2f'), sep='')"
   ]
  }
 ],
 "metadata": {
  "kernelspec": {
   "display_name": "Python 3",
   "language": "python",
   "name": "python3"
  },
  "language_info": {
   "codemirror_mode": {
    "name": "ipython",
    "version": 3
   },
   "file_extension": ".py",
   "mimetype": "text/x-python",
   "name": "python",
   "nbconvert_exporter": "python",
   "pygments_lexer": "ipython3",
   "version": "3.11.0"
  }
 },
 "nbformat": 4,
 "nbformat_minor": 5
}
