{
 "cells": [
  {
   "cell_type": "markdown",
   "id": "26dbaa85",
   "metadata": {},
   "source": [
    "## July 10th Practise"
   ]
  },
  {
   "cell_type": "code",
   "execution_count": null,
   "id": "6de4bec6",
   "metadata": {},
   "outputs": [
    {
     "name": "stdout",
     "output_type": "stream",
     "text": [
      "The converted dollar amount is: $1.85\n"
     ]
    }
   ],
   "source": [
    "#Practice Exercise\n",
    "\n",
    "Cad = float(input(\"Enter the amt of candian dollars: \"))\n",
    "rate = float(input(\"Enter the exchange rate: \"))\n",
    "fee_rate = float(input(\"The enter fee charged in percentage: \"))\n",
    "Cad = Cad*(1-(fee_rate/100))\n",
    "USD = Cad/rate\n",
    "print(\"The converted dollar amount is: ${}\".format(USD))"
   ]
  },
  {
   "cell_type": "markdown",
   "id": "567c0e00",
   "metadata": {},
   "source": [
    "## Excercise 1 - Slide 6"
   ]
  },
  {
   "cell_type": "code",
   "execution_count": 42,
   "id": "e94bfb08",
   "metadata": {},
   "outputs": [
    {
     "name": "stdout",
     "output_type": "stream",
     "text": [
      "\n",
      "Your pace is 7:04 per mile\n",
      "Your pace is 7:04 per mile\n"
     ]
    }
   ],
   "source": [
    "#Exercise 1 Floor Remainder - Slide 6\n",
    "\n",
    "mph = float(input(\"Enter the miles per hour: \"))\n",
    "# mph = 8.5\n",
    "sec_per_mile = 3600/mph\n",
    "min_per_mile = sec_per_mile//60\n",
    "sec_per_mile_1 = sec_per_mile%60\n",
    "print(\"\\nYour pace is \",format(min_per_mile,'.0f'),\":\",format(sec_per_mile_1,'02.0f'), \" per mile\",sep=\"\")\n",
    "print(\"Your pace is {0:.0f}:{1:02.0f} per mile\".format(min_per_mile, sec_per_mile_1))"
   ]
  },
  {
   "cell_type": "markdown",
   "id": "6e1f8f45",
   "metadata": {},
   "source": [
    "## Practise"
   ]
  },
  {
   "cell_type": "code",
   "execution_count": 4,
   "id": "b88cac12",
   "metadata": {},
   "outputs": [
    {
     "name": "stdout",
     "output_type": "stream",
     "text": [
      "3.14\n",
      "1,123,123,211\n",
      "3\n",
      "3.4\n"
     ]
    }
   ],
   "source": [
    "###format review - what happens?\n",
    "Example = 3.14159\n",
    "print(format(Example,'.2f'))\n",
    "\n",
    "Example1 = 1123123211\n",
    "print(format(Example1,',d'))\n",
    "\n",
    "###must match data type to format\n",
    "###fix to get whole number\n",
    "Example3 = 3.4\n",
    "print(int(Example3))\n",
    "print(format(Example3, '.1f'))"
   ]
  },
  {
   "cell_type": "code",
   "execution_count": 1,
   "id": "758b167b",
   "metadata": {},
   "outputs": [
    {
     "name": "stdout",
     "output_type": "stream",
     "text": [
      "My acc balance is $1344.000 and 100.0\n"
     ]
    }
   ],
   "source": [
    "print('My acc balance is ${1:.3f} and {0:.1f}'.format(100,1344))"
   ]
  },
  {
   "cell_type": "code",
   "execution_count": 14,
   "id": "51cfcc62",
   "metadata": {},
   "outputs": [
    {
     "name": "stdout",
     "output_type": "stream",
     "text": [
      "You not made your qouta...\n"
     ]
    }
   ],
   "source": [
    "###Simple If Statement\n",
    "sales = float(input(\"Enter sales: \"))\n",
    "if sales >= 50000:\n",
    "    print(\"You made your quota!!!\")\n",
    "else:\n",
    "    print(\"You not made your qouta...\")"
   ]
  },
  {
   "cell_type": "code",
   "execution_count": 15,
   "id": "dcd2cebc",
   "metadata": {},
   "outputs": [
    {
     "name": "stdout",
     "output_type": "stream",
     "text": [
      "I hope you enjoyed your dinner and drinks\n",
      "Good Day\n"
     ]
    }
   ],
   "source": [
    "###Sequential If Statement\n",
    "target = 7\n",
    "guess = float(input(\"Enter number: \"))\n",
    "if guess==target:\n",
    "    print(\"HaHa - you pick up the bill\")\n",
    "if guess!=target:\n",
    "   print(\"I hope you enjoyed your dinner and drinks\")\n",
    "print(\"Good Day\")"
   ]
  },
  {
   "cell_type": "code",
   "execution_count": null,
   "id": "45afc741",
   "metadata": {},
   "outputs": [
    {
     "name": "stdout",
     "output_type": "stream",
     "text": [
      "Largest is c: 3\n"
     ]
    }
   ],
   "source": [
    "# Slide 10\n",
    "\n",
    "# Declare and read variables\n",
    "a = 1\n",
    "b = 2\n",
    "c = 3\n",
    "\n",
    "# Begin nested conditions\n",
    "if a > b:\n",
    "    if a > c:\n",
    "        print(\"Largest is a:\", a)\n",
    "    else:\n",
    "        print(\"Largest is c:\", c)\n",
    "else:\n",
    "    if b > c:\n",
    "        print(\"Largest is b:\", b)\n",
    "    else:\n",
    "        print(\"Largest is c:\", c)\n"
   ]
  },
  {
   "cell_type": "code",
   "execution_count": null,
   "id": "3466e7d3",
   "metadata": {},
   "outputs": [
    {
     "name": "stdout",
     "output_type": "stream",
     "text": [
      "You need a salary of at least $30,000 to qualify.\n"
     ]
    }
   ],
   "source": [
    "###Nested if-else - Slide 15\n",
    "\n",
    "minSalary = 30000\n",
    "minYears = 2\n",
    "salary = float(input(\"Enter salary: \"))\n",
    "yearsOnJob = float(input(\"Enter years on job: \"))\n",
    "\n",
    "if salary >= minSalary:\n",
    "   if yearsOnJob >= 2:\n",
    "       print(\"You qualify for the loan.\")\n",
    "   else:\n",
    "       print(\"You need at least two years on the job to qualify.\")\n",
    "else: print(\"You need a salary of at least $30,000 to qualify.\")"
   ]
  },
  {
   "cell_type": "code",
   "execution_count": 18,
   "id": "4f405f23",
   "metadata": {},
   "outputs": [
    {
     "name": "stdout",
     "output_type": "stream",
     "text": [
      "You are fired!!!\n"
     ]
    }
   ],
   "source": [
    "###if else elif Practise\n",
    "\n",
    "sales = float(input(\"Enter sales: \"))\n",
    "if sales >= 50000:\n",
    "    print(\"You get the big bonus!!!\")\n",
    "elif sales >=30000:\n",
    "    print(\"You made your quota!!!\")\n",
    "else:\n",
    "    print(\"You are fired!!!\")"
   ]
  },
  {
   "cell_type": "markdown",
   "id": "dc094429",
   "metadata": {},
   "source": [
    "## Excercise 2 - Slide 20"
   ]
  },
  {
   "cell_type": "code",
   "execution_count": 41,
   "id": "5c7db63c",
   "metadata": {},
   "outputs": [
    {
     "name": "stdout",
     "output_type": "stream",
     "text": [
      "The max loan offered is $500\n"
     ]
    }
   ],
   "source": [
    "a1 = input(\"Are you a minnesota residence: \")\n",
    "a1 = a1.lower()\n",
    "\n",
    "if (a1!='yes'):\n",
    "    print(\"Sorry can't be offered a loan...\")\n",
    "else:\n",
    "    crd_score = float(input(\"Enter your credit score: \"))\n",
    "    if (crd_score>=700):\n",
    "        print(\"The max loan offered is $10000\")\n",
    "    elif (600<crd_score<700):\n",
    "        print(\"The max loan offered is $500\")\n",
    "    else:\n",
    "        print(\"Sorry, there can be no loan offered at this point\")"
   ]
  },
  {
   "cell_type": "markdown",
   "id": "516b8a63",
   "metadata": {},
   "source": [
    "## Excercise 3 - Slide 23"
   ]
  },
  {
   "cell_type": "code",
   "execution_count": 17,
   "id": "5c60a6b9",
   "metadata": {},
   "outputs": [
    {
     "name": "stdout",
     "output_type": "stream",
     "text": [
      "The Cash Balance is off target and is: 5.00%\n"
     ]
    }
   ],
   "source": [
    "assets = float(input(\"Enter the value of Current Assets: \"))\n",
    "cash = float(input(\"Enter the Cash Balance: \"))\n",
    "\n",
    "cash_percentage = (cash/assets)*100\n",
    "\n",
    "if (10<= cash_percentage <= 15):\n",
    "    print(\"The Cash Balance is on target and is: {:.2f}%\".format(cash_percentage))\n",
    "else:\n",
    "    print(\"The Cash Balance is off target and is: {:.2f}%\".format(cash_percentage))"
   ]
  },
  {
   "cell_type": "markdown",
   "id": "8822fca6",
   "metadata": {},
   "source": [
    "## Excercise 4 - Slide 26"
   ]
  },
  {
   "cell_type": "code",
   "execution_count": 38,
   "id": "075ac815",
   "metadata": {},
   "outputs": [
    {
     "name": "stdout",
     "output_type": "stream",
     "text": [
      "You are Conditional Admit :)\n"
     ]
    }
   ],
   "source": [
    "gmat = float(input(\"Enter your GMAT Score: \"))\n",
    "CPA = input(\"Are you a CPA: 'Yes' or 'No'? \")\n",
    "CPA = CPA.lower()\n",
    "\n",
    "if (CPA == 'yes' or gmat>=700):\n",
    "    print(\"Congratulations, you are Automatically Admit :)\")\n",
    "elif(CPA == 'no' and 600<=gmat):\n",
    "    print(\"You are Conditional Admit :)\")\n",
    "else:\n",
    "    print(\"Sorry, you have been Rejected Admission...\")"
   ]
  }
 ],
 "metadata": {
  "kernelspec": {
   "display_name": "Python 3",
   "language": "python",
   "name": "python3"
  },
  "language_info": {
   "codemirror_mode": {
    "name": "ipython",
    "version": 3
   },
   "file_extension": ".py",
   "mimetype": "text/x-python",
   "name": "python",
   "nbconvert_exporter": "python",
   "pygments_lexer": "ipython3",
   "version": "3.11.0"
  }
 },
 "nbformat": 4,
 "nbformat_minor": 5
}
