{
 "cells": [
  {
   "cell_type": "code",
   "execution_count": null,
   "id": "13b22e63-f8a8-4d89-9c10-5ec13e8a5634",
   "metadata": {},
   "outputs": [],
   "source": [
    "##Practice with print, input, operators, and formatting\n",
    "\n",
    "CAD=float(input(\"Please enter the number of Canadian dollars: \"))\n",
    "rate=float(input(\"Please enter the exchange rate (1 USD = ___ CAD): \"))\n",
    "feeRate=.075\n",
    "USD=CAD/rate-CAD/rate*feeRate\n",
    "print(\"\\n\\n\\nYou will receive a total of $\",format(USD,',.2f'),sep=\"\")\n"
   ]
  },
  {
   "cell_type": "code",
   "execution_count": null,
   "id": "c609e429-832d-49dc-a1c3-109f3065d982",
   "metadata": {},
   "outputs": [],
   "source": [
    "###EX 1 Floor Remainder\n",
    "mph = float(input(\"Enter speed in miles per hour: \"))\n",
    "\n",
    "print(\"\\nYour pace is \",format(MIN,'.0f'),\":\",format(SEC,'02.0f'),\n",
    "      \" per mile\",sep=\"\")"
   ]
  },
  {
   "cell_type": "code",
   "execution_count": 8,
   "id": "ec61deb8-f327-49e6-b29b-9e0f29127fc5",
   "metadata": {},
   "outputs": [
    {
     "name": "stdout",
     "output_type": "stream",
     "text": [
      "3.14\n",
      "1,123,123,211\n"
     ]
    }
   ],
   "source": [
    "###format review - what happens?\n",
    "Example = 3.14159\n",
    "print(format(Example,'.2f'))\n",
    "\n",
    "Example1 = 1123123211\n",
    "print(format(Example1,',d'))"
   ]
  },
  {
   "cell_type": "code",
   "execution_count": null,
   "id": "7aa81220-f08a-4a52-9a39-11f3b0dee9ba",
   "metadata": {},
   "outputs": [
    {
     "name": "stdout",
     "output_type": "stream",
     "text": [
      "3\n"
     ]
    }
   ],
   "source": [
    "###must match data type to format\n",
    "###fix to get whole number\n",
    "Example3 = 3.4\n",
    "print(format(Example3, ',d'))"
   ]
  },
  {
   "cell_type": "code",
   "execution_count": null,
   "id": "6e2d4ceb-7e10-45ac-945c-5420b2f2997e",
   "metadata": {},
   "outputs": [],
   "source": [
    "###Simple If Statement\n",
    "sales = float(input(\"Enter sales: \"))\n",
    "if sales >= 50000:\n",
    "    print(\"You made your quota!!!\")\n"
   ]
  },
  {
   "cell_type": "code",
   "execution_count": null,
   "id": "880d79bb-b840-4142-af8e-5474b985f35e",
   "metadata": {},
   "outputs": [],
   "source": [
    "###Sequential If Statement\n",
    "target = 7\n",
    "guess = float(input(\"Enter number: \"))\n",
    "if guess==target:\n",
    "    print(\"HaHa - you pick up the bill\")\n",
    "if guess!=target:\n",
    "   print(\"I hope you enjoyed your dinner and drinks\")\n",
    "print(\"Good Day\")\n"
   ]
  },
  {
   "cell_type": "code",
   "execution_count": null,
   "id": "eb04e0bf-e892-4841-9041-a973b0009c18",
   "metadata": {},
   "outputs": [],
   "source": [
    "###Nested if-else\n",
    "minSalary = 30000\n",
    "minYears = 2\n",
    "salary = float(input(\"Enter salary: \"))\n",
    "yearsOnJob = float(input(\"Enter years on job: \"))\n",
    "if salary >= minSalary:\n",
    "   if yearsOnJob >= 2:\n",
    "       print(\"You qualify for the loan.\")\n",
    "   else:\n",
    "       print(\"You need at least two years on the job to qualify.\")\n",
    "else: print(\"You need a salary of at least $30,000 to qualify.\")\n"
   ]
  },
  {
   "cell_type": "code",
   "execution_count": null,
   "id": "723064ff-b20a-4c13-a587-b8f7fe0cf352",
   "metadata": {},
   "outputs": [],
   "source": [
    "###if else elif\n",
    "sales = float(input(\"Enter sales: \"))\n",
    "if sales >= 50000:\n",
    "    print(\"You get the big bonus!!!\")\n",
    "elif sales >=30000:\n",
    "    print(\"You made your quota!!!\")\n",
    "else:\n",
    "    print(\"You are fired!!!\")"
   ]
  },
  {
   "cell_type": "code",
   "execution_count": null,
   "id": "043336d3-f3f0-44f5-b850-f06bcaa77520",
   "metadata": {},
   "outputs": [],
   "source": [
    "### Ex2 Loan - use a nest if-else with if-else-elif\n",
    "res = str(input(\"\"\"Are you a Minnesota Resident: \"yes\" or \"no\"? \"\"\"))\n",
    "res=res.lower()\n",
    "if res == \"yes\":\n",
    "###indent\n",
    "###get input: credit = int(input(\"Enter credit score (0-800): \"))\n",
    "###add if else elif for credit above 700 ($1000), 600 ($500\n",
    "\n",
    "else:\n",
    "   print(\"You must be a Minnesota resident to participate\")"
   ]
  },
  {
   "cell_type": "code",
   "execution_count": null,
   "id": "54f73d31-dba0-46da-812d-5eb3ba2451d3",
   "metadata": {},
   "outputs": [],
   "source": [
    "x=float(input(\"Enter amount!\"))\n",
    "### is X within a range\n",
    "if x>=10 and x<=20:\n",
    "    print(\"X is between 10 and 20\")\n",
    "### X is outside range\n",
    "if x<10 or x>20:\n",
    "    print(\"X is not between 10 and 20\")\n"
   ]
  },
  {
   "cell_type": "code",
   "execution_count": null,
   "id": "0d92d085-6e55-446f-ab07-dc9d8269865b",
   "metadata": {},
   "outputs": [],
   "source": [
    "###Ex3 Target Cash\n",
    "current=float(input(\"Please enter the value of current assets: \"))\n",
    "cash=float(input(\"Please enter the cash balance: \"))\n",
    "\n",
    "###set target variable (upper 15% of assets, lower 10% of assets)\n",
    "\n",
    "### set up if statement with logic \n",
    "    print(\"\\nThe cash balance is off target.\")\n",
    "else:\n",
    "    print(\"\\nThe cash balance is on target.\")"
   ]
  },
  {
   "cell_type": "code",
   "execution_count": null,
   "id": "bbab9188-113c-45e9-8ca4-2fd77e8b07c6",
   "metadata": {},
   "outputs": [],
   "source": [
    "###Boolean Variable Example\n",
    "cash=float(input(\"Please enter the cash balance: \"))\n",
    "target=bool(False)\n",
    "if cash>=10000:\n",
    "    target = True\n",
    "if target == True:\n",
    "    print('Cash balance is on target')\n",
    "else:\n",
    "    print('Not enough cash')\n"
   ]
  },
  {
   "cell_type": "code",
   "execution_count": null,
   "id": "85e8c869-bc9c-4b64-a912-8d06c637f7e8",
   "metadata": {},
   "outputs": [],
   "source": [
    "###EX 4 Challenge\n",
    "#If students have a CPA, they are automatically admitted\n",
    "#If students score 700 or above on the GMAT, they are automatically admitted\n",
    "#If students do not have a CPA, but score at least 600, they are conditionally admitted. \n",
    "#Use logical operators (and/or) to provide the appropriate response to user input.\n"
   ]
  }
 ],
 "metadata": {
  "kernelspec": {
   "display_name": "Python 3",
   "language": "python",
   "name": "python3"
  },
  "language_info": {
   "codemirror_mode": {
    "name": "ipython",
    "version": 3
   },
   "file_extension": ".py",
   "mimetype": "text/x-python",
   "name": "python",
   "nbconvert_exporter": "python",
   "pygments_lexer": "ipython3",
   "version": "3.11.0"
  }
 },
 "nbformat": 4,
 "nbformat_minor": 5
}
